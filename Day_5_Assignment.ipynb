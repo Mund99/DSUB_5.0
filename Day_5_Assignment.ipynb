{
  "nbformat": 4,
  "nbformat_minor": 0,
  "metadata": {
    "colab": {
      "name": "Python Programming (Basic).ipynb",
      "provenance": [],
      "collapsed_sections": [],
      "include_colab_link": true
    },
    "kernelspec": {
      "name": "python3",
      "display_name": "Python 3"
    },
    "language_info": {
      "name": "python"
    }
  },
  "cells": [
    {
      "cell_type": "markdown",
      "metadata": {
        "id": "view-in-github",
        "colab_type": "text"
      },
      "source": [
        "<a href=\"https://colab.research.google.com/github/Mund99/DSUB_modules/blob/main/Python_Programming_(Basic).ipynb\" target=\"_parent\"><img src=\"https://colab.research.google.com/assets/colab-badge.svg\" alt=\"Open In Colab\"/></a>"
      ]
    },
    {
      "cell_type": "code",
      "execution_count": null,
      "metadata": {
        "id": "T-hbUoRj87Dd"
      },
      "outputs": [],
      "source": [
        "print(\"Hello World\")"
      ]
    },
    {
      "cell_type": "markdown",
      "source": [
        "# **Example 1**"
      ],
      "metadata": {
        "id": "e4vPPFatR2wN"
      }
    },
    {
      "cell_type": "code",
      "source": [
        "# Write a program to convert USD, SGD, and THB to MYR. \n",
        "# Find out the rate of USD, SGD, and THB \n",
        "\n",
        "# Store the exchange rates using three variables\n",
        "\n",
        "USD = 4.12\n",
        "SGD = 3.07\n",
        "THB = 0.13"
      ],
      "metadata": {
        "id": "PzyWxic8R6as"
      },
      "execution_count": null,
      "outputs": []
    },
    {
      "cell_type": "code",
      "source": [
        "# Then we can calculate the MYR\n",
        "\n",
        "MYR = 50\n",
        "\n",
        "print(f\"{MYR} MYR equals {MYR / USD} USD\")\n",
        "print(f\"{MYR} MYR equals {MYR / SGD} SGD\")\n",
        "print(f\"{MYR} MYR equals {MYR / THB} THB\")"
      ],
      "metadata": {
        "colab": {
          "base_uri": "https://localhost:8080/"
        },
        "id": "HUHNSrelSASK",
        "outputId": "b4dc8186-7dd1-4cd2-adcf-e4dc283dadf4"
      },
      "execution_count": null,
      "outputs": [
        {
          "output_type": "stream",
          "name": "stdout",
          "text": [
            "50 MYR equals 12.135922330097086 USD\n",
            "50 MYR equals 16.286644951140065 SGD\n",
            "50 MYR equals 384.6153846153846 THB\n"
          ]
        }
      ]
    },
    {
      "cell_type": "code",
      "source": [
        "# Store the currency using dictionary\n",
        "# Reference: https://www.w3schools.com/python/python_dictionaries.asp\n",
        "\n",
        "usd = { \n",
        "    \"symbol\": \"USD\",\n",
        "    \"rate\": 4.12\n",
        "}\n",
        "\n",
        "sgd = { \n",
        "    \"symbol\": \"SGD\",\n",
        "    \"rate\": 3.07\n",
        "}\n",
        "\n",
        "thb = { \n",
        "    \"symbol\": \"THB\",\n",
        "    \"rate\": 0.13\n",
        "}"
      ],
      "metadata": {
        "id": "WPxP6O53SALJ"
      },
      "execution_count": null,
      "outputs": []
    },
    {
      "cell_type": "code",
      "source": [
        "# Store all currencies in a list\n",
        "# https://www.w3schools.com/python/python_lists.asp\n",
        "\n",
        "currencies = [usd, sgd, thb]\n",
        "\n",
        "MYR = 50\n",
        "\n",
        "for c in currencies:\n",
        "  print(f\"{MYR} MYR equals {MYR / c['rate']} {c['symbol']}\")"
      ],
      "metadata": {
        "colab": {
          "base_uri": "https://localhost:8080/"
        },
        "id": "u9NljRHRSAIg",
        "outputId": "0ea36414-0c7a-4dfd-d7fb-6bf27f90da01"
      },
      "execution_count": null,
      "outputs": [
        {
          "output_type": "stream",
          "name": "stdout",
          "text": [
            "50 MYR equals 12.135922330097086 USD\n",
            "50 MYR equals 16.286644951140065 SGD\n",
            "50 MYR equals 384.6153846153846 THB\n"
          ]
        }
      ]
    },
    {
      "cell_type": "code",
      "source": [
        "# Format the string using string formatting.\n",
        "# Reference: https://www.w3schools.com/python/python_string_formatting.asp\n",
        "\n",
        "for c in currencies:\n",
        "  print(f\"{MYR} MYR equals {MYR / c['rate']:.2f} {c['symbol']}\")"
      ],
      "metadata": {
        "colab": {
          "base_uri": "https://localhost:8080/"
        },
        "id": "ee2tpQnvSAAE",
        "outputId": "10b1ff80-d9ac-4aef-a634-52abb93381cc"
      },
      "execution_count": null,
      "outputs": [
        {
          "output_type": "stream",
          "name": "stdout",
          "text": [
            "50 MYR equals 12.14 USD\n",
            "50 MYR equals 16.29 SGD\n",
            "50 MYR equals 384.62 THB\n"
          ]
        }
      ]
    },
    {
      "cell_type": "markdown",
      "source": [
        "#**Exercise 1** \n",
        "\n",
        "Convert the temperature from Fahrenheit to Celsius and vice versa (e.g. input \"0C\" and the output is 32F) "
      ],
      "metadata": {
        "id": "oMHttEfMe_5j"
      }
    },
    {
      "cell_type": "code",
      "source": [
        "userInput = input(\"What is the temperature to convert?\")\n",
        "print(userInput)"
      ],
      "metadata": {
        "colab": {
          "base_uri": "https://localhost:8080/"
        },
        "id": "XzSG3QplVLVP",
        "outputId": "87708187-0af3-423c-acba-25062d6e4c1b"
      },
      "execution_count": null,
      "outputs": [
        {
          "output_type": "stream",
          "name": "stdout",
          "text": [
            "What is the temperature to convert?32F\n",
            "32F\n"
          ]
        }
      ]
    },
    {
      "cell_type": "code",
      "source": [
        "inputSymbol = userInput[-1].upper()\n",
        "inputTemp = int(userInput[:-1])"
      ],
      "metadata": {
        "id": "5MLepzAjVLMG"
      },
      "execution_count": null,
      "outputs": []
    },
    {
      "cell_type": "code",
      "source": [
        "if inputSymbol == \"C\":\n",
        "    cal = ((inputTemp * 9/5) + 32)\n",
        "    temp = str(round(cal,1)) + \"F\"\n",
        "elif inputSymbol == \"F\":\n",
        "    cal = ((inputTemp - 32) * 5/9)\n",
        "    temp = str(round(cal,1)) + \"C\"\n",
        "    \n",
        "print (\"{} is equal to {}\".format(userInput, temp))"
      ],
      "metadata": {
        "id": "Kp1dF_kK9bVC",
        "colab": {
          "base_uri": "https://localhost:8080/"
        },
        "outputId": "0c2d887b-8087-45f5-a679-3daf5bd2efb5"
      },
      "execution_count": null,
      "outputs": [
        {
          "output_type": "stream",
          "name": "stdout",
          "text": [
            "32F is equal to 0.0C\n"
          ]
        }
      ]
    },
    {
      "cell_type": "markdown",
      "source": [
        "#**Exercise 2**\n",
        "\n",
        "Calculate the BMI of three people with the following details:\n",
        "\n",
        "A. male, 168cm, 58kg\n",
        "\n",
        "B. female, 157cm, 42kg\n",
        "\n",
        "C. male, 172cm, 85kg"
      ],
      "metadata": {
        "id": "2uh1niGIfMZ4"
      }
    },
    {
      "cell_type": "code",
      "source": [
        "p1 = {\n",
        "    \"gender\": \"male\",\n",
        "    \"height\": 168,\n",
        "    \"weight\": 58\n",
        "}\n",
        "\n",
        "p2 = {\n",
        "    \"gender\": \"female\",\n",
        "    \"height\": 157,\n",
        "    \"weight\": 42\n",
        "}\n",
        "\n",
        "p3 = {\n",
        "    \"gender\": \"male\",\n",
        "    \"height\": 172,\n",
        "    \"weight\": 85\n",
        "}"
      ],
      "metadata": {
        "id": "2xK2nwdaejN7"
      },
      "execution_count": null,
      "outputs": []
    },
    {
      "cell_type": "code",
      "source": [
        "people = [p1, p2, p3]\n",
        "count = 0\n",
        "\n",
        "for i in people: \n",
        "  g = i['gender']\n",
        "  kg = i['weight']\n",
        "  m = i['height']/100\n",
        "\n",
        "  BMI = kg / (m**2)\n",
        "  count += 1;\n",
        "\n",
        "  print(\"Person {} BMI = {:.2f}\".format(count,BMI))"
      ],
      "metadata": {
        "colab": {
          "base_uri": "https://localhost:8080/"
        },
        "id": "xvWx7hskBMyz",
        "outputId": "a18031ef-ea54-4b07-88cf-e37b0ffd4b58"
      },
      "execution_count": null,
      "outputs": [
        {
          "output_type": "stream",
          "name": "stdout",
          "text": [
            "Person 1 BMI = 20.55\n",
            "Person 2 BMI = 17.04\n",
            "Person 3 BMI = 28.73\n"
          ]
        }
      ]
    },
    {
      "cell_type": "markdown",
      "source": [
        "Exercise 2 (Using class method) "
      ],
      "metadata": {
        "id": "OKZyT16s1IYC"
      }
    },
    {
      "cell_type": "code",
      "source": [
        "class Person:\n",
        "  def __init__ (self, gender, height, weight):\n",
        "    self.gender = gender\n",
        "    self.height = height\n",
        "    self.weight = weight \n",
        "\n",
        "  def BMI_cal (self): \n",
        "    BMI = round((self.weight / (self.height/100)**2), 2)\n",
        "    return BMI\n",
        "\n",
        "p1 = Person(\"male\",168,58)\n",
        "p2 = Person(\"female\",157,42)\n",
        "p3 = Person(\"male\",172,85)\n",
        "\n",
        "people = [p1, p2, p3]\n",
        "count = 0 "
      ],
      "metadata": {
        "id": "dLuxvZJ91b_u"
      },
      "execution_count": null,
      "outputs": []
    },
    {
      "cell_type": "code",
      "source": [
        "for i in people: \n",
        "    count += 1 \n",
        "    print(\"Person {} BMI = {}\".format(count,i.BMI_cal()))"
      ],
      "metadata": {
        "colab": {
          "base_uri": "https://localhost:8080/"
        },
        "id": "WzMAqW--2mtv",
        "outputId": "d39b3229-d2d9-4c5d-b3a8-e4a26e17c9b7"
      },
      "execution_count": null,
      "outputs": [
        {
          "output_type": "stream",
          "name": "stdout",
          "text": [
            "Person 1 BMI = 20.55\n",
            "Person 2 BMI = 17.04\n",
            "Person 3 BMI = 28.73\n"
          ]
        }
      ]
    }
  ]
}