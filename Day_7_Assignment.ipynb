{
  "nbformat": 4,
  "nbformat_minor": 0,
  "metadata": {
    "colab": {
      "name": "Day 7 Assignment.ipynb",
      "provenance": [],
      "collapsed_sections": [],
      "authorship_tag": "ABX9TyP1niR2o9J5yod3iukUx7m2",
      "include_colab_link": true
    },
    "kernelspec": {
      "name": "python3",
      "display_name": "Python 3"
    },
    "language_info": {
      "name": "python"
    }
  },
  "cells": [
    {
      "cell_type": "markdown",
      "metadata": {
        "id": "view-in-github",
        "colab_type": "text"
      },
      "source": [
        "<a href=\"https://colab.research.google.com/github/Mund99/DSUB_5.0/blob/main/Day_7_Assignment.ipynb\" target=\"_parent\"><img src=\"https://colab.research.google.com/assets/colab-badge.svg\" alt=\"Open In Colab\"/></a>"
      ]
    },
    {
      "cell_type": "markdown",
      "source": [
        "# **Day 7 Assignment - Data Structure**\n",
        "Given a string: “The quick brown fox jumps over the lazy dog.”\n",
        "\n",
        "\n"
      ],
      "metadata": {
        "id": "kRDUu3xuFaDd"
      }
    },
    {
      "cell_type": "code",
      "execution_count": 1,
      "metadata": {
        "id": "ntr6A5KGBcT3"
      },
      "outputs": [],
      "source": [
        "string = \"The quick brown fox jumps over the lazy dog\""
      ]
    },
    {
      "cell_type": "code",
      "source": [
        "string_split = string.split()   # Split the string into a list \n",
        "string_split"
      ],
      "metadata": {
        "colab": {
          "base_uri": "https://localhost:8080/"
        },
        "id": "26uicwU4HuEu",
        "outputId": "75ce1974-bf88-4f1b-be9e-cae41cdab295"
      },
      "execution_count": 2,
      "outputs": [
        {
          "output_type": "execute_result",
          "data": {
            "text/plain": [
              "['The', 'quick', 'brown', 'fox', 'jumps', 'over', 'the', 'lazy', 'dog']"
            ]
          },
          "metadata": {},
          "execution_count": 2
        }
      ]
    },
    {
      "cell_type": "markdown",
      "source": [
        "# a. Words that have exactly THREE characters\n"
      ],
      "metadata": {
        "id": "3QvM5sy2I7mf"
      }
    },
    {
      "cell_type": "code",
      "source": [
        "newlist = [x for x in string_split if len(x) == 3 ]\n",
        "print(f\"{len(newlist)} words that have exactly three characters - {str(newlist)[1:-1]}\")"
      ],
      "metadata": {
        "colab": {
          "base_uri": "https://localhost:8080/"
        },
        "id": "33aNojJmFygq",
        "outputId": "aa6f880b-9343-40fb-ec17-2617c9d46d6b"
      },
      "execution_count": 3,
      "outputs": [
        {
          "output_type": "stream",
          "name": "stdout",
          "text": [
            "4 words that have exactly three characters - 'The', 'fox', 'the', 'dog'\n"
          ]
        }
      ]
    },
    {
      "cell_type": "markdown",
      "source": [
        "# b. Words that have more than THREE characters"
      ],
      "metadata": {
        "id": "cBV87FXbJF2G"
      }
    },
    {
      "cell_type": "code",
      "source": [
        "newlist_2 = [x for x in string_split if len(x) > 3 ]\n",
        "print(f\"{len(newlist_2)} words that have more than 3 characters - {str(newlist_2)[1:-1]}\")"
      ],
      "metadata": {
        "colab": {
          "base_uri": "https://localhost:8080/"
        },
        "id": "I6LZtIUVHkDr",
        "outputId": "230b74b5-92a3-4211-f4de-1edd88e7201a"
      },
      "execution_count": 4,
      "outputs": [
        {
          "output_type": "stream",
          "name": "stdout",
          "text": [
            "5 words that have more than 3 characters - 'quick', 'brown', 'jumps', 'over', 'lazy'\n"
          ]
        }
      ]
    },
    {
      "cell_type": "markdown",
      "source": [
        "# c. Words that start with a vowel (aeiou)\n"
      ],
      "metadata": {
        "id": "40UDYxoaJIth"
      }
    },
    {
      "cell_type": "code",
      "source": [
        "vowel = ('a','e', 'i', 'o', 'u')"
      ],
      "metadata": {
        "id": "y-U28UJ9Ierp"
      },
      "execution_count": 5,
      "outputs": []
    },
    {
      "cell_type": "code",
      "source": [
        "newlist_3 = [x for x in string_split if x.startswith(vowel)]\n",
        "print(f\"{len(newlist_3)} words that start with a vowel - {str(newlist_3)[1:-1]}\")"
      ],
      "metadata": {
        "colab": {
          "base_uri": "https://localhost:8080/"
        },
        "id": "IwHO_1JvJT5l",
        "outputId": "ba7bbfc3-9fd5-42f1-b579-cf7eb1598644"
      },
      "execution_count": 6,
      "outputs": [
        {
          "output_type": "stream",
          "name": "stdout",
          "text": [
            "1 words that start with a vowel - 'over'\n"
          ]
        }
      ]
    }
  ]
}