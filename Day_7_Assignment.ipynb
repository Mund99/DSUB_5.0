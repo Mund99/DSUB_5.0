{
  "nbformat": 4,
  "nbformat_minor": 0,
  "metadata": {
    "colab": {
      "name": "Day 7 Assignment.ipynb",
      "provenance": [],
      "authorship_tag": "ABX9TyNGf24LpBG2GJXq4/h6++q/",
      "include_colab_link": true
    },
    "kernelspec": {
      "name": "python3",
      "display_name": "Python 3"
    },
    "language_info": {
      "name": "python"
    }
  },
  "cells": [
    {
      "cell_type": "markdown",
      "metadata": {
        "id": "view-in-github",
        "colab_type": "text"
      },
      "source": [
        "<a href=\"https://colab.research.google.com/github/Mund99/DSUB_5.0/blob/main/Day_7_Assignment.ipynb\" target=\"_parent\"><img src=\"https://colab.research.google.com/assets/colab-badge.svg\" alt=\"Open In Colab\"/></a>"
      ]
    },
    {
      "cell_type": "markdown",
      "source": [
        "# **Day 7 Assignment - Data Structure**\n",
        "Given a string: “The quick brown fox jumps over the lazy dog.”\n",
        "\n",
        "Write a script to find -\n",
        "\n",
        "\n",
        "\n"
      ],
      "metadata": {
        "id": "kRDUu3xuFaDd"
      }
    },
    {
      "cell_type": "code",
      "execution_count": 16,
      "metadata": {
        "id": "ntr6A5KGBcT3"
      },
      "outputs": [],
      "source": [
        "string = \"The quick brown fox jumps over the lazy dog\""
      ]
    },
    {
      "cell_type": "code",
      "source": [
        "string_split = string.split()   # Split the string into a list \n",
        "string_split"
      ],
      "metadata": {
        "colab": {
          "base_uri": "https://localhost:8080/"
        },
        "id": "26uicwU4HuEu",
        "outputId": "9dff6bb7-1892-402f-cab6-c95ce235c23a"
      },
      "execution_count": 17,
      "outputs": [
        {
          "output_type": "execute_result",
          "data": {
            "text/plain": [
              "['The', 'quick', 'brown', 'fox', 'jumps', 'over', 'the', 'lazy', 'dog']"
            ]
          },
          "metadata": {},
          "execution_count": 17
        }
      ]
    },
    {
      "cell_type": "markdown",
      "source": [
        "# a. Words that have exactly THREE characters\n"
      ],
      "metadata": {
        "id": "3QvM5sy2I7mf"
      }
    },
    {
      "cell_type": "code",
      "source": [
        "newlist = [x for x in string_split if len(x) == 3 ]\n",
        "newlist"
      ],
      "metadata": {
        "colab": {
          "base_uri": "https://localhost:8080/"
        },
        "id": "33aNojJmFygq",
        "outputId": "0e95db6b-2014-4a60-d423-cadf947cc0d1"
      },
      "execution_count": 18,
      "outputs": [
        {
          "output_type": "execute_result",
          "data": {
            "text/plain": [
              "['The', 'fox', 'the', 'dog']"
            ]
          },
          "metadata": {},
          "execution_count": 18
        }
      ]
    },
    {
      "cell_type": "markdown",
      "source": [
        "# b. Words that have more than THREE characters"
      ],
      "metadata": {
        "id": "cBV87FXbJF2G"
      }
    },
    {
      "cell_type": "code",
      "source": [
        "newlist_2 = [x for x in string_split if len(x) > 3 ]\n",
        "newlist_2"
      ],
      "metadata": {
        "colab": {
          "base_uri": "https://localhost:8080/"
        },
        "id": "I6LZtIUVHkDr",
        "outputId": "96b88c61-3bb5-465a-dbc4-9eb18fb54259"
      },
      "execution_count": 19,
      "outputs": [
        {
          "output_type": "execute_result",
          "data": {
            "text/plain": [
              "['quick', 'brown', 'jumps', 'over', 'lazy']"
            ]
          },
          "metadata": {},
          "execution_count": 19
        }
      ]
    },
    {
      "cell_type": "markdown",
      "source": [
        "# c. Words that start with a vowel (aeiou)\n"
      ],
      "metadata": {
        "id": "40UDYxoaJIth"
      }
    },
    {
      "cell_type": "code",
      "source": [
        "vowel = ['a','e', 'i', 'o', 'u']"
      ],
      "metadata": {
        "id": "y-U28UJ9Ierp"
      },
      "execution_count": 22,
      "outputs": []
    },
    {
      "cell_type": "code",
      "source": [
        "newlist_3 = [x for x in string_split if x.startswith(vowel)]\n",
        "newlist_3"
      ],
      "metadata": {
        "colab": {
          "base_uri": "https://localhost:8080/"
        },
        "id": "IwHO_1JvJT5l",
        "outputId": "25621b73-baf7-4883-ce3f-0b62f28608b3"
      },
      "execution_count": 27,
      "outputs": [
        {
          "output_type": "execute_result",
          "data": {
            "text/plain": [
              "['over']"
            ]
          },
          "metadata": {},
          "execution_count": 27
        }
      ]
    }
  ]
}