{
  "nbformat": 4,
  "nbformat_minor": 0,
  "metadata": {
    "colab": {
      "name": "Day 22 Analyse sentiment using NLTK.ipynb",
      "provenance": [],
      "collapsed_sections": [],
      "authorship_tag": "ABX9TyOw1Bc7TFclCDo3pTD6/0Mn",
      "include_colab_link": true
    },
    "kernelspec": {
      "name": "python3",
      "display_name": "Python 3"
    },
    "language_info": {
      "name": "python"
    }
  },
  "cells": [
    {
      "cell_type": "markdown",
      "metadata": {
        "id": "view-in-github",
        "colab_type": "text"
      },
      "source": [
        "<a href=\"https://colab.research.google.com/github/Mund99/DSUB_5.0/blob/main/Day_22_Analyse_sentiment_using_NLTK.ipynb\" target=\"_parent\"><img src=\"https://colab.research.google.com/assets/colab-badge.svg\" alt=\"Open In Colab\"/></a>"
      ]
    },
    {
      "cell_type": "code",
      "execution_count": null,
      "metadata": {
        "colab": {
          "base_uri": "https://localhost:8080/"
        },
        "id": "Ajr37UntY0FS",
        "outputId": "d4167d03-020b-4209-ff41-b96f20b8445f"
      },
      "outputs": [
        {
          "output_type": "stream",
          "name": "stderr",
          "text": [
            "/usr/local/lib/python3.7/dist-packages/nltk/twitter/__init__.py:20: UserWarning: The twython library has not been installed. Some functionality from the twitter package will not be available.\n",
            "  warnings.warn(\"The twython library has not been installed. \"\n"
          ]
        }
      ],
      "source": [
        "import nltk\n",
        "from nltk.sentiment.vader import SentimentIntensityAnalyzer"
      ]
    },
    {
      "cell_type": "code",
      "source": [
        "nltk.download('vader_lexicon')"
      ],
      "metadata": {
        "colab": {
          "base_uri": "https://localhost:8080/"
        },
        "id": "Hvez3DUfZb6U",
        "outputId": "55d5da45-e1cb-4aa0-ebe3-a992be3b0477"
      },
      "execution_count": null,
      "outputs": [
        {
          "output_type": "stream",
          "name": "stdout",
          "text": [
            "[nltk_data] Downloading package vader_lexicon to /root/nltk_data...\n"
          ]
        },
        {
          "output_type": "execute_result",
          "data": {
            "text/plain": [
              "True"
            ]
          },
          "metadata": {},
          "execution_count": 2
        }
      ]
    },
    {
      "cell_type": "code",
      "source": [
        "analyzer = SentimentIntensityAnalyzer()\n",
        "\n",
        "text = \"I love this dress, it is so pretty!\"\n",
        "analyzer.polarity_scores(text)"
      ],
      "metadata": {
        "colab": {
          "base_uri": "https://localhost:8080/"
        },
        "id": "E6H7pA3AZdTV",
        "outputId": "de5397c6-70a1-48ed-aef7-453f550663c9"
      },
      "execution_count": null,
      "outputs": [
        {
          "output_type": "execute_result",
          "data": {
            "text/plain": [
              "{'compound': 0.8627, 'neg': 0.0, 'neu': 0.367, 'pos': 0.633}"
            ]
          },
          "metadata": {},
          "execution_count": 3
        }
      ]
    },
    {
      "cell_type": "markdown",
      "source": [
        "Took the comments on Air Asia from Trip Advisor: \n",
        "\n",
        "https://www.tripadvisor.com/ShowUserReviews-g1-d8729220-r550585078-AirAsia_AirAsia_Berhad_Malaysia-World.html"
      ],
      "metadata": {
        "id": "vYXWRCqwgBnl"
      }
    },
    {
      "cell_type": "code",
      "source": [
        "text = \"Even it is not comfortable, the reason i like air asia because that it is so cheap that the lack of amenities is covered up. the crews are nice and totally welcoming\"\n",
        "analyzer.polarity_scores(text)\n",
        "# Positive sentiment "
      ],
      "metadata": {
        "colab": {
          "base_uri": "https://localhost:8080/"
        },
        "id": "Yjn-VjRRZev7",
        "outputId": "ce932c8a-af4a-42fd-969d-e685e83ac721"
      },
      "execution_count": null,
      "outputs": [
        {
          "output_type": "execute_result",
          "data": {
            "text/plain": [
              "{'compound': 0.8627, 'neg': 0.0, 'neu': 0.367, 'pos': 0.633}"
            ]
          },
          "metadata": {},
          "execution_count": 4
        }
      ]
    },
    {
      "cell_type": "code",
      "source": [
        "text = \"I had a pleasant morning flight. The food could be more fresh and have more choices. Enjoyed my flight.\"\n",
        "analyzer.polarity_scores(text)\n",
        "# Positive sentiment"
      ],
      "metadata": {
        "colab": {
          "base_uri": "https://localhost:8080/"
        },
        "id": "ogWSaCJHZ8gO",
        "outputId": "b54ead9a-4bce-41c8-bf04-49b3d025435a"
      },
      "execution_count": null,
      "outputs": [
        {
          "output_type": "execute_result",
          "data": {
            "text/plain": [
              "{'compound': 0.8581, 'neg': 0.0, 'neu': 0.596, 'pos': 0.404}"
            ]
          },
          "metadata": {},
          "execution_count": 13
        }
      ]
    },
    {
      "cell_type": "code",
      "source": [
        "text = \"The service and the flight is better than the sector we have flown from KL to Langkawi. Staff also seems more pleasant. Self check in at Langkawi Airport is very easy and convenient.\"\n",
        "analyzer.polarity_scores(text)\n",
        "# Neutral sentiment "
      ],
      "metadata": {
        "colab": {
          "base_uri": "https://localhost:8080/"
        },
        "id": "3wf40y99Z8v2",
        "outputId": "52581c1a-22ce-48e9-a7f3-5114a7745f51"
      },
      "execution_count": null,
      "outputs": [
        {
          "output_type": "execute_result",
          "data": {
            "text/plain": [
              "{'compound': 0.8653, 'neg': 0.0, 'neu': 0.756, 'pos': 0.244}"
            ]
          },
          "metadata": {},
          "execution_count": 11
        }
      ]
    },
    {
      "cell_type": "code",
      "source": [
        "text = \"Flight change without informing. Delay non stop and broken arm rest! Should arrive by 9pm and now 11pm I'm still at Klia!\"\n",
        "analyzer.polarity_scores(text)\n",
        "# Negative sentiment "
      ],
      "metadata": {
        "colab": {
          "base_uri": "https://localhost:8080/"
        },
        "id": "OryiL0roZ8_8",
        "outputId": "ff85edb0-abf7-446b-8f79-21aba6d4c434"
      },
      "execution_count": null,
      "outputs": [
        {
          "output_type": "execute_result",
          "data": {
            "text/plain": [
              "{'compound': -0.6023, 'neg': 0.219, 'neu': 0.708, 'pos': 0.073}"
            ]
          },
          "metadata": {},
          "execution_count": 10
        }
      ]
    },
    {
      "cell_type": "code",
      "source": [
        "text = \"Horrible experience. Do not use this airline! First they Rescheduled my flight more than 5 times.\"\n",
        "analyzer.polarity_scores(text)\n",
        "# Negative sentiment "
      ],
      "metadata": {
        "colab": {
          "base_uri": "https://localhost:8080/"
        },
        "id": "tAlm9qaFZ-SH",
        "outputId": "2756bf1a-3c51-4610-b22c-6df7f03b4587"
      },
      "execution_count": null,
      "outputs": [
        {
          "output_type": "execute_result",
          "data": {
            "text/plain": [
              "{'compound': -0.5848, 'neg': 0.213, 'neu': 0.787, 'pos': 0.0}"
            ]
          },
          "metadata": {},
          "execution_count": 8
        }
      ]
    },
    {
      "cell_type": "code",
      "source": [
        ""
      ],
      "metadata": {
        "id": "rcAov2Fxfrsh"
      },
      "execution_count": null,
      "outputs": []
    }
  ]
}