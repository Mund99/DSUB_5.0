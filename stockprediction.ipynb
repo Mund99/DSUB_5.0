{
  "nbformat": 4,
  "nbformat_minor": 0,
  "metadata": {
    "colab": {
      "name": "stockprediction.ipynb",
      "provenance": [],
      "collapsed_sections": [],
      "authorship_tag": "ABX9TyO4GL6XQAkf1L2CTkqP29vT",
      "include_colab_link": true
    },
    "kernelspec": {
      "name": "python3",
      "display_name": "Python 3"
    },
    "language_info": {
      "name": "python"
    }
  },
  "cells": [
    {
      "cell_type": "markdown",
      "metadata": {
        "id": "view-in-github",
        "colab_type": "text"
      },
      "source": [
        "<a href=\"https://colab.research.google.com/github/Mund99/DSUB_5.0/blob/main/stockprediction.ipynb\" target=\"_parent\"><img src=\"https://colab.research.google.com/assets/colab-badge.svg\" alt=\"Open In Colab\"/></a>"
      ]
    },
    {
      "cell_type": "code",
      "source": [
        "!pip install utils\n",
        "!pip install mxnet \n",
        "!pip install warnings"
      ],
      "metadata": {
        "colab": {
          "base_uri": "https://localhost:8080/"
        },
        "id": "HwFS1gft3tlI",
        "outputId": "facdd6fc-2822-4777-a0eb-507f3035fd69"
      },
      "execution_count": null,
      "outputs": [
        {
          "output_type": "stream",
          "name": "stdout",
          "text": [
            "Looking in indexes: https://pypi.org/simple, https://us-python.pkg.dev/colab-wheels/public/simple/\n",
            "Requirement already satisfied: utils in /usr/local/lib/python3.7/dist-packages (1.0.1)\n",
            "Looking in indexes: https://pypi.org/simple, https://us-python.pkg.dev/colab-wheels/public/simple/\n",
            "Requirement already satisfied: mxnet in /usr/local/lib/python3.7/dist-packages (1.9.1)\n",
            "Requirement already satisfied: numpy<2.0.0,>1.16.0 in /usr/local/lib/python3.7/dist-packages (from mxnet) (1.21.6)\n",
            "Requirement already satisfied: requests<3,>=2.20.0 in /usr/local/lib/python3.7/dist-packages (from mxnet) (2.23.0)\n",
            "Requirement already satisfied: graphviz<0.9.0,>=0.8.1 in /usr/local/lib/python3.7/dist-packages (from mxnet) (0.8.4)\n",
            "Requirement already satisfied: urllib3!=1.25.0,!=1.25.1,<1.26,>=1.21.1 in /usr/local/lib/python3.7/dist-packages (from requests<3,>=2.20.0->mxnet) (1.24.3)\n",
            "Requirement already satisfied: certifi>=2017.4.17 in /usr/local/lib/python3.7/dist-packages (from requests<3,>=2.20.0->mxnet) (2022.5.18.1)\n",
            "Requirement already satisfied: chardet<4,>=3.0.2 in /usr/local/lib/python3.7/dist-packages (from requests<3,>=2.20.0->mxnet) (3.0.4)\n",
            "Requirement already satisfied: idna<3,>=2.5 in /usr/local/lib/python3.7/dist-packages (from requests<3,>=2.20.0->mxnet) (2.10)\n",
            "Looking in indexes: https://pypi.org/simple, https://us-python.pkg.dev/colab-wheels/public/simple/\n",
            "\u001b[31mERROR: Could not find a version that satisfies the requirement warnings (from versions: none)\u001b[0m\n",
            "\u001b[31mERROR: No matching distribution found for warnings\u001b[0m\n"
          ]
        }
      ]
    },
    {
      "cell_type": "code",
      "execution_count": null,
      "metadata": {
        "id": "x0Fp8mxtGhRg"
      },
      "outputs": [],
      "source": [
        "from utils import *\n",
        "\n",
        "import time\n",
        "import numpy as np\n",
        "import pandas as pd\n",
        "\n",
        "from mxnet import nd, autograd, gluon\n",
        "from mxnet.gluon import nn, rnn\n",
        "import mxnet as mx\n",
        "import datetime\n",
        "import seaborn as sns\n",
        "\n",
        "import matplotlib.pyplot as plt\n",
        "%matplotlib inline\n",
        "from sklearn.decomposition import PCA\n",
        "\n",
        "import math\n",
        "\n",
        "from sklearn.preprocessing import MinMaxScaler\n",
        "from sklearn.metrics import mean_squared_error\n",
        "from sklearn.preprocessing import StandardScaler\n",
        "\n",
        "import xgboost as xgb\n",
        "from sklearn.metrics import accuracy_score\n",
        "\n",
        "import warnings\n",
        "warnings.filterwarnings(\"ignore\")"
      ]
    },
    {
      "cell_type": "code",
      "source": [
        "context = mx.cpu(); model_ctx=mx.cpu()\n",
        "mx.random.seed(1719)"
      ],
      "metadata": {
        "id": "EnDFwUEDGk-T"
      },
      "execution_count": null,
      "outputs": []
    },
    {
      "cell_type": "code",
      "source": [
        "def parser(x):\n",
        "    return datetime.datetime.strptime(x,'%Y-%m-%d')"
      ],
      "metadata": {
        "id": "xSHrWhFkGk7l"
      },
      "execution_count": null,
      "outputs": []
    },
    {
      "cell_type": "code",
      "source": [
        "dataset_ex_df = pd.read_csv('https://raw.githubusercontent.com/Mund99/StockForecastingModel/main/goldmansachs_financialdata.csv', header=0, parse_dates=[0], date_parser=parser)\n",
        "dataset_ex_df"
      ],
      "metadata": {
        "colab": {
          "base_uri": "https://localhost:8080/",
          "height": 424
        },
        "id": "JGjyEqRYGk40",
        "outputId": "501aab67-c569-4d4f-9778-9ad88d2556e2"
      },
      "execution_count": null,
      "outputs": [
        {
          "output_type": "execute_result",
          "data": {
            "text/plain": [
              "           Date        Open        High         Low       Close   Adj Close  \\\n",
              "0    2009-12-31  167.289993  170.130005  166.929993  168.839996  140.212372   \n",
              "1    2010-01-04  170.050003  174.250000  169.509995  173.080002  143.733444   \n",
              "2    2010-01-05  173.000000  176.259995  172.570007  176.139999  146.274658   \n",
              "3    2010-01-06  175.380005  175.380005  173.759995  174.259995  144.713379   \n",
              "4    2010-01-07  174.320007  178.750000  173.949997  177.669998  147.545212   \n",
              "...         ...         ...         ...         ...         ...         ...   \n",
              "2260 2018-12-24  159.000000  160.000000  154.309998  156.350006  146.146851   \n",
              "2261 2018-12-26  157.000000  163.110001  151.699997  162.929993  152.297424   \n",
              "2262 2018-12-27  160.119995  165.410004  159.020004  165.410004  154.615616   \n",
              "2263 2018-12-28  165.639999  165.949997  162.020004  163.029999  152.390961   \n",
              "2264 2018-12-31  163.779999  167.119995  163.779999  167.050003  156.148590   \n",
              "\n",
              "        Volume  \n",
              "0      6401800  \n",
              "1      9135000  \n",
              "2     11659400  \n",
              "3      7381100  \n",
              "4      8727400  \n",
              "...        ...  \n",
              "2260   3783500  \n",
              "2261   7054700  \n",
              "2262   4973000  \n",
              "2263   4110500  \n",
              "2264   4550000  \n",
              "\n",
              "[2265 rows x 7 columns]"
            ],
            "text/html": [
              "\n",
              "  <div id=\"df-f7b108bc-4e81-4455-b711-0a54098bae0f\">\n",
              "    <div class=\"colab-df-container\">\n",
              "      <div>\n",
              "<style scoped>\n",
              "    .dataframe tbody tr th:only-of-type {\n",
              "        vertical-align: middle;\n",
              "    }\n",
              "\n",
              "    .dataframe tbody tr th {\n",
              "        vertical-align: top;\n",
              "    }\n",
              "\n",
              "    .dataframe thead th {\n",
              "        text-align: right;\n",
              "    }\n",
              "</style>\n",
              "<table border=\"1\" class=\"dataframe\">\n",
              "  <thead>\n",
              "    <tr style=\"text-align: right;\">\n",
              "      <th></th>\n",
              "      <th>Date</th>\n",
              "      <th>Open</th>\n",
              "      <th>High</th>\n",
              "      <th>Low</th>\n",
              "      <th>Close</th>\n",
              "      <th>Adj Close</th>\n",
              "      <th>Volume</th>\n",
              "    </tr>\n",
              "  </thead>\n",
              "  <tbody>\n",
              "    <tr>\n",
              "      <th>0</th>\n",
              "      <td>2009-12-31</td>\n",
              "      <td>167.289993</td>\n",
              "      <td>170.130005</td>\n",
              "      <td>166.929993</td>\n",
              "      <td>168.839996</td>\n",
              "      <td>140.212372</td>\n",
              "      <td>6401800</td>\n",
              "    </tr>\n",
              "    <tr>\n",
              "      <th>1</th>\n",
              "      <td>2010-01-04</td>\n",
              "      <td>170.050003</td>\n",
              "      <td>174.250000</td>\n",
              "      <td>169.509995</td>\n",
              "      <td>173.080002</td>\n",
              "      <td>143.733444</td>\n",
              "      <td>9135000</td>\n",
              "    </tr>\n",
              "    <tr>\n",
              "      <th>2</th>\n",
              "      <td>2010-01-05</td>\n",
              "      <td>173.000000</td>\n",
              "      <td>176.259995</td>\n",
              "      <td>172.570007</td>\n",
              "      <td>176.139999</td>\n",
              "      <td>146.274658</td>\n",
              "      <td>11659400</td>\n",
              "    </tr>\n",
              "    <tr>\n",
              "      <th>3</th>\n",
              "      <td>2010-01-06</td>\n",
              "      <td>175.380005</td>\n",
              "      <td>175.380005</td>\n",
              "      <td>173.759995</td>\n",
              "      <td>174.259995</td>\n",
              "      <td>144.713379</td>\n",
              "      <td>7381100</td>\n",
              "    </tr>\n",
              "    <tr>\n",
              "      <th>4</th>\n",
              "      <td>2010-01-07</td>\n",
              "      <td>174.320007</td>\n",
              "      <td>178.750000</td>\n",
              "      <td>173.949997</td>\n",
              "      <td>177.669998</td>\n",
              "      <td>147.545212</td>\n",
              "      <td>8727400</td>\n",
              "    </tr>\n",
              "    <tr>\n",
              "      <th>...</th>\n",
              "      <td>...</td>\n",
              "      <td>...</td>\n",
              "      <td>...</td>\n",
              "      <td>...</td>\n",
              "      <td>...</td>\n",
              "      <td>...</td>\n",
              "      <td>...</td>\n",
              "    </tr>\n",
              "    <tr>\n",
              "      <th>2260</th>\n",
              "      <td>2018-12-24</td>\n",
              "      <td>159.000000</td>\n",
              "      <td>160.000000</td>\n",
              "      <td>154.309998</td>\n",
              "      <td>156.350006</td>\n",
              "      <td>146.146851</td>\n",
              "      <td>3783500</td>\n",
              "    </tr>\n",
              "    <tr>\n",
              "      <th>2261</th>\n",
              "      <td>2018-12-26</td>\n",
              "      <td>157.000000</td>\n",
              "      <td>163.110001</td>\n",
              "      <td>151.699997</td>\n",
              "      <td>162.929993</td>\n",
              "      <td>152.297424</td>\n",
              "      <td>7054700</td>\n",
              "    </tr>\n",
              "    <tr>\n",
              "      <th>2262</th>\n",
              "      <td>2018-12-27</td>\n",
              "      <td>160.119995</td>\n",
              "      <td>165.410004</td>\n",
              "      <td>159.020004</td>\n",
              "      <td>165.410004</td>\n",
              "      <td>154.615616</td>\n",
              "      <td>4973000</td>\n",
              "    </tr>\n",
              "    <tr>\n",
              "      <th>2263</th>\n",
              "      <td>2018-12-28</td>\n",
              "      <td>165.639999</td>\n",
              "      <td>165.949997</td>\n",
              "      <td>162.020004</td>\n",
              "      <td>163.029999</td>\n",
              "      <td>152.390961</td>\n",
              "      <td>4110500</td>\n",
              "    </tr>\n",
              "    <tr>\n",
              "      <th>2264</th>\n",
              "      <td>2018-12-31</td>\n",
              "      <td>163.779999</td>\n",
              "      <td>167.119995</td>\n",
              "      <td>163.779999</td>\n",
              "      <td>167.050003</td>\n",
              "      <td>156.148590</td>\n",
              "      <td>4550000</td>\n",
              "    </tr>\n",
              "  </tbody>\n",
              "</table>\n",
              "<p>2265 rows × 7 columns</p>\n",
              "</div>\n",
              "      <button class=\"colab-df-convert\" onclick=\"convertToInteractive('df-f7b108bc-4e81-4455-b711-0a54098bae0f')\"\n",
              "              title=\"Convert this dataframe to an interactive table.\"\n",
              "              style=\"display:none;\">\n",
              "        \n",
              "  <svg xmlns=\"http://www.w3.org/2000/svg\" height=\"24px\"viewBox=\"0 0 24 24\"\n",
              "       width=\"24px\">\n",
              "    <path d=\"M0 0h24v24H0V0z\" fill=\"none\"/>\n",
              "    <path d=\"M18.56 5.44l.94 2.06.94-2.06 2.06-.94-2.06-.94-.94-2.06-.94 2.06-2.06.94zm-11 1L8.5 8.5l.94-2.06 2.06-.94-2.06-.94L8.5 2.5l-.94 2.06-2.06.94zm10 10l.94 2.06.94-2.06 2.06-.94-2.06-.94-.94-2.06-.94 2.06-2.06.94z\"/><path d=\"M17.41 7.96l-1.37-1.37c-.4-.4-.92-.59-1.43-.59-.52 0-1.04.2-1.43.59L10.3 9.45l-7.72 7.72c-.78.78-.78 2.05 0 2.83L4 21.41c.39.39.9.59 1.41.59.51 0 1.02-.2 1.41-.59l7.78-7.78 2.81-2.81c.8-.78.8-2.07 0-2.86zM5.41 20L4 18.59l7.72-7.72 1.47 1.35L5.41 20z\"/>\n",
              "  </svg>\n",
              "      </button>\n",
              "      \n",
              "  <style>\n",
              "    .colab-df-container {\n",
              "      display:flex;\n",
              "      flex-wrap:wrap;\n",
              "      gap: 12px;\n",
              "    }\n",
              "\n",
              "    .colab-df-convert {\n",
              "      background-color: #E8F0FE;\n",
              "      border: none;\n",
              "      border-radius: 50%;\n",
              "      cursor: pointer;\n",
              "      display: none;\n",
              "      fill: #1967D2;\n",
              "      height: 32px;\n",
              "      padding: 0 0 0 0;\n",
              "      width: 32px;\n",
              "    }\n",
              "\n",
              "    .colab-df-convert:hover {\n",
              "      background-color: #E2EBFA;\n",
              "      box-shadow: 0px 1px 2px rgba(60, 64, 67, 0.3), 0px 1px 3px 1px rgba(60, 64, 67, 0.15);\n",
              "      fill: #174EA6;\n",
              "    }\n",
              "\n",
              "    [theme=dark] .colab-df-convert {\n",
              "      background-color: #3B4455;\n",
              "      fill: #D2E3FC;\n",
              "    }\n",
              "\n",
              "    [theme=dark] .colab-df-convert:hover {\n",
              "      background-color: #434B5C;\n",
              "      box-shadow: 0px 1px 3px 1px rgba(0, 0, 0, 0.15);\n",
              "      filter: drop-shadow(0px 1px 2px rgba(0, 0, 0, 0.3));\n",
              "      fill: #FFFFFF;\n",
              "    }\n",
              "  </style>\n",
              "\n",
              "      <script>\n",
              "        const buttonEl =\n",
              "          document.querySelector('#df-f7b108bc-4e81-4455-b711-0a54098bae0f button.colab-df-convert');\n",
              "        buttonEl.style.display =\n",
              "          google.colab.kernel.accessAllowed ? 'block' : 'none';\n",
              "\n",
              "        async function convertToInteractive(key) {\n",
              "          const element = document.querySelector('#df-f7b108bc-4e81-4455-b711-0a54098bae0f');\n",
              "          const dataTable =\n",
              "            await google.colab.kernel.invokeFunction('convertToInteractive',\n",
              "                                                     [key], {});\n",
              "          if (!dataTable) return;\n",
              "\n",
              "          const docLinkHtml = 'Like what you see? Visit the ' +\n",
              "            '<a target=\"_blank\" href=https://colab.research.google.com/notebooks/data_table.ipynb>data table notebook</a>'\n",
              "            + ' to learn more about interactive tables.';\n",
              "          element.innerHTML = '';\n",
              "          dataTable['output_type'] = 'display_data';\n",
              "          await google.colab.output.renderOutput(dataTable, element);\n",
              "          const docLink = document.createElement('div');\n",
              "          docLink.innerHTML = docLinkHtml;\n",
              "          element.appendChild(docLink);\n",
              "        }\n",
              "      </script>\n",
              "    </div>\n",
              "  </div>\n",
              "  "
            ]
          },
          "metadata": {},
          "execution_count": 19
        }
      ]
    },
    {
      "cell_type": "code",
      "source": [
        "dataset_ex_df[['Date', 'Close']].head(3)\n"
      ],
      "metadata": {
        "id": "e6UGfBFFGk10",
        "colab": {
          "base_uri": "https://localhost:8080/",
          "height": 143
        },
        "outputId": "a830739e-3321-489b-e646-baef6ea3870e"
      },
      "execution_count": null,
      "outputs": [
        {
          "output_type": "execute_result",
          "data": {
            "text/plain": [
              "        Date       Close\n",
              "0 2009-12-31  168.839996\n",
              "1 2010-01-04  173.080002\n",
              "2 2010-01-05  176.139999"
            ],
            "text/html": [
              "\n",
              "  <div id=\"df-fe7bae17-7f1f-4d60-9bde-629614beda27\">\n",
              "    <div class=\"colab-df-container\">\n",
              "      <div>\n",
              "<style scoped>\n",
              "    .dataframe tbody tr th:only-of-type {\n",
              "        vertical-align: middle;\n",
              "    }\n",
              "\n",
              "    .dataframe tbody tr th {\n",
              "        vertical-align: top;\n",
              "    }\n",
              "\n",
              "    .dataframe thead th {\n",
              "        text-align: right;\n",
              "    }\n",
              "</style>\n",
              "<table border=\"1\" class=\"dataframe\">\n",
              "  <thead>\n",
              "    <tr style=\"text-align: right;\">\n",
              "      <th></th>\n",
              "      <th>Date</th>\n",
              "      <th>Close</th>\n",
              "    </tr>\n",
              "  </thead>\n",
              "  <tbody>\n",
              "    <tr>\n",
              "      <th>0</th>\n",
              "      <td>2009-12-31</td>\n",
              "      <td>168.839996</td>\n",
              "    </tr>\n",
              "    <tr>\n",
              "      <th>1</th>\n",
              "      <td>2010-01-04</td>\n",
              "      <td>173.080002</td>\n",
              "    </tr>\n",
              "    <tr>\n",
              "      <th>2</th>\n",
              "      <td>2010-01-05</td>\n",
              "      <td>176.139999</td>\n",
              "    </tr>\n",
              "  </tbody>\n",
              "</table>\n",
              "</div>\n",
              "      <button class=\"colab-df-convert\" onclick=\"convertToInteractive('df-fe7bae17-7f1f-4d60-9bde-629614beda27')\"\n",
              "              title=\"Convert this dataframe to an interactive table.\"\n",
              "              style=\"display:none;\">\n",
              "        \n",
              "  <svg xmlns=\"http://www.w3.org/2000/svg\" height=\"24px\"viewBox=\"0 0 24 24\"\n",
              "       width=\"24px\">\n",
              "    <path d=\"M0 0h24v24H0V0z\" fill=\"none\"/>\n",
              "    <path d=\"M18.56 5.44l.94 2.06.94-2.06 2.06-.94-2.06-.94-.94-2.06-.94 2.06-2.06.94zm-11 1L8.5 8.5l.94-2.06 2.06-.94-2.06-.94L8.5 2.5l-.94 2.06-2.06.94zm10 10l.94 2.06.94-2.06 2.06-.94-2.06-.94-.94-2.06-.94 2.06-2.06.94z\"/><path d=\"M17.41 7.96l-1.37-1.37c-.4-.4-.92-.59-1.43-.59-.52 0-1.04.2-1.43.59L10.3 9.45l-7.72 7.72c-.78.78-.78 2.05 0 2.83L4 21.41c.39.39.9.59 1.41.59.51 0 1.02-.2 1.41-.59l7.78-7.78 2.81-2.81c.8-.78.8-2.07 0-2.86zM5.41 20L4 18.59l7.72-7.72 1.47 1.35L5.41 20z\"/>\n",
              "  </svg>\n",
              "      </button>\n",
              "      \n",
              "  <style>\n",
              "    .colab-df-container {\n",
              "      display:flex;\n",
              "      flex-wrap:wrap;\n",
              "      gap: 12px;\n",
              "    }\n",
              "\n",
              "    .colab-df-convert {\n",
              "      background-color: #E8F0FE;\n",
              "      border: none;\n",
              "      border-radius: 50%;\n",
              "      cursor: pointer;\n",
              "      display: none;\n",
              "      fill: #1967D2;\n",
              "      height: 32px;\n",
              "      padding: 0 0 0 0;\n",
              "      width: 32px;\n",
              "    }\n",
              "\n",
              "    .colab-df-convert:hover {\n",
              "      background-color: #E2EBFA;\n",
              "      box-shadow: 0px 1px 2px rgba(60, 64, 67, 0.3), 0px 1px 3px 1px rgba(60, 64, 67, 0.15);\n",
              "      fill: #174EA6;\n",
              "    }\n",
              "\n",
              "    [theme=dark] .colab-df-convert {\n",
              "      background-color: #3B4455;\n",
              "      fill: #D2E3FC;\n",
              "    }\n",
              "\n",
              "    [theme=dark] .colab-df-convert:hover {\n",
              "      background-color: #434B5C;\n",
              "      box-shadow: 0px 1px 3px 1px rgba(0, 0, 0, 0.15);\n",
              "      filter: drop-shadow(0px 1px 2px rgba(0, 0, 0, 0.3));\n",
              "      fill: #FFFFFF;\n",
              "    }\n",
              "  </style>\n",
              "\n",
              "      <script>\n",
              "        const buttonEl =\n",
              "          document.querySelector('#df-fe7bae17-7f1f-4d60-9bde-629614beda27 button.colab-df-convert');\n",
              "        buttonEl.style.display =\n",
              "          google.colab.kernel.accessAllowed ? 'block' : 'none';\n",
              "\n",
              "        async function convertToInteractive(key) {\n",
              "          const element = document.querySelector('#df-fe7bae17-7f1f-4d60-9bde-629614beda27');\n",
              "          const dataTable =\n",
              "            await google.colab.kernel.invokeFunction('convertToInteractive',\n",
              "                                                     [key], {});\n",
              "          if (!dataTable) return;\n",
              "\n",
              "          const docLinkHtml = 'Like what you see? Visit the ' +\n",
              "            '<a target=\"_blank\" href=https://colab.research.google.com/notebooks/data_table.ipynb>data table notebook</a>'\n",
              "            + ' to learn more about interactive tables.';\n",
              "          element.innerHTML = '';\n",
              "          dataTable['output_type'] = 'display_data';\n",
              "          await google.colab.output.renderOutput(dataTable, element);\n",
              "          const docLink = document.createElement('div');\n",
              "          docLink.innerHTML = docLinkHtml;\n",
              "          element.appendChild(docLink);\n",
              "        }\n",
              "      </script>\n",
              "    </div>\n",
              "  </div>\n",
              "  "
            ]
          },
          "metadata": {},
          "execution_count": 33
        }
      ]
    },
    {
      "cell_type": "code",
      "source": [
        "print('There are {} number of days in the dataset.'.format(dataset_ex_df.shape[0]))"
      ],
      "metadata": {
        "id": "mcWmgOWmGkvr",
        "colab": {
          "base_uri": "https://localhost:8080/"
        },
        "outputId": "8e9af887-9b6d-483b-d07f-a1ed864c0e33"
      },
      "execution_count": null,
      "outputs": [
        {
          "output_type": "stream",
          "name": "stdout",
          "text": [
            "There are 2265 number of days in the dataset.\n"
          ]
        }
      ]
    },
    {
      "cell_type": "code",
      "source": [
        "plt.figure(figsize=(14, 5), dpi=100)\n",
        "plt.plot(dataset_ex_df['Date'], dataset_ex_df['Close'], label='Goldman Sachs stock')\n",
        "plt.vlines(datetime.date(2016,4, 20), 0, 270, linestyles='--', colors='gray', label='Train/Test data cut-off')\n",
        "plt.xlabel('Date')\n",
        "plt.ylabel('USD')\n",
        "plt.title('Figure 2: Goldman Sachs stock price')\n",
        "plt.legend()\n",
        "plt.show()"
      ],
      "metadata": {
        "id": "7jYXY8v0Gks5",
        "colab": {
          "base_uri": "https://localhost:8080/",
          "height": 480
        },
        "outputId": "b7a43a09-f572-4d39-ed51-ea5793af2812"
      },
      "execution_count": null,
      "outputs": [
        {
          "output_type": "display_data",
          "data": {
            "text/plain": [
              "<Figure size 1400x500 with 1 Axes>"
            ],
            "image/png": "[encoded data removed]"
          },
          "metadata": {
            "needs_background": "light"
          }
        }
      ]
    },
    {
      "cell_type": "code",
      "source": [
        "num_training_days = int(dataset_ex_df.shape[0]*.7)\n",
        "print('Number of training days: {}. Number of test days: {}.'.format(num_training_days, \\\n",
        "                                                                    dataset_ex_df.shape[0]-num_training_days))"
      ],
      "metadata": {
        "id": "Pa82SNprGkpv",
        "colab": {
          "base_uri": "https://localhost:8080/"
        },
        "outputId": "06b22cd0-1ac6-40cd-a718-a4cf42ac857f"
      },
      "execution_count": null,
      "outputs": [
        {
          "output_type": "stream",
          "name": "stdout",
          "text": [
            "Number of training days: 1585. Number of test days: 680.\n"
          ]
        }
      ]
    },
    {
      "cell_type": "code",
      "source": [
        "def get_technical_indicators(dataset):\n",
        "    df = pd.DataFrame(dataset)\n",
        "    # Create 7 and 21 days Moving Average\n",
        "    dataset['ma7'] = dataset['Close'].rolling(window=7).mean()\n",
        "    dataset['ma21'] = dataset['Close'].rolling(window=21).mean()\n",
        "    \n",
        "    # Create MACD\n",
        "    dataset['26ema'] = df.ewm(span=26)\n",
        "    dataset['12ema'] = df.ewm(span=12)\n",
        "    dataset['MACD'] = (dataset['12ema']-dataset['26ema'])\n",
        "\n",
        "    # Create Bollinger Bands\n",
        "    dataset['20sd'] = pd.stats.moments.rolling_std(dataset['Close'],20)\n",
        "    dataset['upper_band'] = dataset['ma21'] + (dataset['20sd']*2)\n",
        "    dataset['lower_band'] = dataset['ma21'] - (dataset['20sd']*2)\n",
        "    \n",
        "    # Create Exponential moving average\n",
        "    dataset['ema'] = dataset['Close'].ewm(com=0.5).mean()\n",
        "    \n",
        "    # Create Momentum\n",
        "    dataset['momentum'] = dataset['Close']-1\n",
        "    \n",
        "    return dataset"
      ],
      "metadata": {
        "id": "IA1jolIeCu2i"
      },
      "execution_count": null,
      "outputs": []
    },
    {
      "cell_type": "code",
      "source": [
        "def get_technical_indicators(dataset):\n",
        "\n",
        "    # Create 7 and 21 days Moving Average\n",
        "    dataset['ma7'] = dataset['Close'].rolling(window=7).mean()\n",
        "    dataset['ma21'] = dataset['Close'].rolling(window=21).mean()\n",
        "    \n",
        "    # Create MACD\n",
        "    dataset['26ema'] = dataset['Close'].ewm(span=26).mean()\n",
        "    dataset['12ema'] = dataset['Close'].ewm(span=12).mean()\n",
        "    dataset['MACD'] = (dataset['12ema']-dataset['26ema'])\n",
        "\n",
        "    # Create Bollinger Bands\n",
        "    dataset['20sd'] = dataset['Close'].rolling(20).std()\n",
        "    dataset['upper_band'] = dataset['ma21'] + (dataset['20sd']*2)\n",
        "    dataset['lower_band'] = dataset['ma21'] - (dataset['20sd']*2)\n",
        "    \n",
        "    # Create Exponential moving average\n",
        "    dataset['ema'] = dataset['Close'].ewm(com=0.5).mean()\n",
        "    \n",
        "    # Create Momentum\n",
        "    dataset['momentum'] = dataset['Close']-1\n",
        "    dataset['log_momentum'] = np.log(dataset['momentum'])\n",
        "    \n",
        "    return dataset"
      ],
      "metadata": {
        "id": "eLL--ptyG1-b"
      },
      "execution_count": null,
      "outputs": []
    },
    {
      "cell_type": "code",
      "source": [
        "dataset_TI_df = get_technical_indicators(dataset_ex_df[['Date','Close']])\n",
        "dataset_TI_df = dataset_TI_df.iloc[20:]\n",
        "dataset_TI_df"
      ],
      "metadata": {
        "id": "9XP3PGrQG17w",
        "colab": {
          "base_uri": "https://localhost:8080/",
          "height": 424
        },
        "outputId": "2941a023-5b1b-4c47-a03e-ae23d1314c05"
      },
      "execution_count": null,
      "outputs": [
        {
          "output_type": "execute_result",
          "data": {
            "text/plain": [
              "           Date       Close         ma7        ma21       26ema       12ema  \\\n",
              "20   2010-02-01  153.130005  152.374285  164.220476  160.321839  156.655072   \n",
              "21   2010-02-02  156.940002  152.777143  163.653809  160.014868  156.700047   \n",
              "22   2010-02-03  157.229996  153.098572  162.899047  159.766235  156.783365   \n",
              "23   2010-02-04  150.679993  153.069999  161.686666  158.967168  155.827031   \n",
              "24   2010-02-05  154.160004  153.449999  160.729523  158.550196  155.566566   \n",
              "...         ...         ...         ...         ...         ...         ...   \n",
              "2260 2018-12-24  156.350006  166.620002  179.774763  182.277728  170.924864   \n",
              "2261 2018-12-26  162.929993  165.214286  178.528572  180.844563  169.694884   \n",
              "2262 2018-12-27  165.410004  164.842859  177.150953  179.701262  169.035672   \n",
              "2263 2018-12-28  163.029999  163.632858  175.692858  178.466354  168.111722   \n",
              "2264 2018-12-31  167.050003  163.318573  174.202382  177.620698  167.948381   \n",
              "\n",
              "           MACD       20sd  upper_band  lower_band         ema    momentum  \\\n",
              "20    -3.666767   9.607375  183.435226  145.005726  152.113609  152.130005   \n",
              "21    -3.314821   9.480630  182.615070  144.692549  155.331204  155.940002   \n",
              "22    -2.982871   9.053702  181.006450  144.791644  156.597065  156.229996   \n",
              "23    -3.140137   8.940246  179.567158  143.806174  152.652350  149.679993   \n",
              "24    -2.983631   8.151912  177.033348  144.425699  153.657453  153.160004   \n",
              "...         ...        ...         ...         ...         ...         ...   \n",
              "2260 -11.352864  12.007080  203.788923  155.760603  158.564897  155.350006   \n",
              "2261 -11.149679  11.991685  202.511942  154.545201  161.474961  161.929993   \n",
              "2262 -10.665590  11.677966  200.506885  153.795021  164.098323  164.410004   \n",
              "2263 -10.354632  10.810508  197.313874  154.071842  163.386107  162.029999   \n",
              "2264  -9.672317   9.804801  193.811984  154.592780  165.828704  166.050003   \n",
              "\n",
              "      log_momentum  \n",
              "20        5.024735  \n",
              "21        5.049471  \n",
              "22        5.051329  \n",
              "23        5.008500  \n",
              "24        5.031483  \n",
              "...            ...  \n",
              "2260      5.045681  \n",
              "2261      5.087164  \n",
              "2262      5.102363  \n",
              "2263      5.087781  \n",
              "2264      5.112289  \n",
              "\n",
              "[2245 rows x 13 columns]"
            ],
            "text/html": [
              "\n",
              "  <div id=\"df-358d6ffb-0339-4518-b90c-fc00ab8660b5\">\n",
              "    <div class=\"colab-df-container\">\n",
              "      <div>\n",
              "<style scoped>\n",
              "    .dataframe tbody tr th:only-of-type {\n",
              "        vertical-align: middle;\n",
              "    }\n",
              "\n",
              "    .dataframe tbody tr th {\n",
              "        vertical-align: top;\n",
              "    }\n",
              "\n",
              "    .dataframe thead th {\n",
              "        text-align: right;\n",
              "    }\n",
              "</style>\n",
              "<table border=\"1\" class=\"dataframe\">\n",
              "  <thead>\n",
              "    <tr style=\"text-align: right;\">\n",
              "      <th></th>\n",
              "      <th>Date</th>\n",
              "      <th>Close</th>\n",
              "      <th>ma7</th>\n",
              "      <th>ma21</th>\n",
              "      <th>26ema</th>\n",
              "      <th>12ema</th>\n",
              "      <th>MACD</th>\n",
              "      <th>20sd</th>\n",
              "      <th>upper_band</th>\n",
              "      <th>lower_band</th>\n",
              "      <th>ema</th>\n",
              "      <th>momentum</th>\n",
              "      <th>log_momentum</th>\n",
              "    </tr>\n",
              "  </thead>\n",
              "  <tbody>\n",
              "    <tr>\n",
              "      <th>20</th>\n",
              "      <td>2010-02-01</td>\n",
              "      <td>153.130005</td>\n",
              "      <td>152.374285</td>\n",
              "      <td>164.220476</td>\n",
              "      <td>160.321839</td>\n",
              "      <td>156.655072</td>\n",
              "      <td>-3.666767</td>\n",
              "      <td>9.607375</td>\n",
              "      <td>183.435226</td>\n",
              "      <td>145.005726</td>\n",
              "      <td>152.113609</td>\n",
              "      <td>152.130005</td>\n",
              "      <td>5.024735</td>\n",
              "    </tr>\n",
              "    <tr>\n",
              "      <th>21</th>\n",
              "      <td>2010-02-02</td>\n",
              "      <td>156.940002</td>\n",
              "      <td>152.777143</td>\n",
              "      <td>163.653809</td>\n",
              "      <td>160.014868</td>\n",
              "      <td>156.700047</td>\n",
              "      <td>-3.314821</td>\n",
              "      <td>9.480630</td>\n",
              "      <td>182.615070</td>\n",
              "      <td>144.692549</td>\n",
              "      <td>155.331204</td>\n",
              "      <td>155.940002</td>\n",
              "      <td>5.049471</td>\n",
              "    </tr>\n",
              "    <tr>\n",
              "      <th>22</th>\n",
              "      <td>2010-02-03</td>\n",
              "      <td>157.229996</td>\n",
              "      <td>153.098572</td>\n",
              "      <td>162.899047</td>\n",
              "      <td>159.766235</td>\n",
              "      <td>156.783365</td>\n",
              "      <td>-2.982871</td>\n",
              "      <td>9.053702</td>\n",
              "      <td>181.006450</td>\n",
              "      <td>144.791644</td>\n",
              "      <td>156.597065</td>\n",
              "      <td>156.229996</td>\n",
              "      <td>5.051329</td>\n",
              "    </tr>\n",
              "    <tr>\n",
              "      <th>23</th>\n",
              "      <td>2010-02-04</td>\n",
              "      <td>150.679993</td>\n",
              "      <td>153.069999</td>\n",
              "      <td>161.686666</td>\n",
              "      <td>158.967168</td>\n",
              "      <td>155.827031</td>\n",
              "      <td>-3.140137</td>\n",
              "      <td>8.940246</td>\n",
              "      <td>179.567158</td>\n",
              "      <td>143.806174</td>\n",
              "      <td>152.652350</td>\n",
              "      <td>149.679993</td>\n",
              "      <td>5.008500</td>\n",
              "    </tr>\n",
              "    <tr>\n",
              "      <th>24</th>\n",
              "      <td>2010-02-05</td>\n",
              "      <td>154.160004</td>\n",
              "      <td>153.449999</td>\n",
              "      <td>160.729523</td>\n",
              "      <td>158.550196</td>\n",
              "      <td>155.566566</td>\n",
              "      <td>-2.983631</td>\n",
              "      <td>8.151912</td>\n",
              "      <td>177.033348</td>\n",
              "      <td>144.425699</td>\n",
              "      <td>153.657453</td>\n",
              "      <td>153.160004</td>\n",
              "      <td>5.031483</td>\n",
              "    </tr>\n",
              "    <tr>\n",
              "      <th>...</th>\n",
              "      <td>...</td>\n",
              "      <td>...</td>\n",
              "      <td>...</td>\n",
              "      <td>...</td>\n",
              "      <td>...</td>\n",
              "      <td>...</td>\n",
              "      <td>...</td>\n",
              "      <td>...</td>\n",
              "      <td>...</td>\n",
              "      <td>...</td>\n",
              "      <td>...</td>\n",
              "      <td>...</td>\n",
              "      <td>...</td>\n",
              "    </tr>\n",
              "    <tr>\n",
              "      <th>2260</th>\n",
              "      <td>2018-12-24</td>\n",
              "      <td>156.350006</td>\n",
              "      <td>166.620002</td>\n",
              "      <td>179.774763</td>\n",
              "      <td>182.277728</td>\n",
              "      <td>170.924864</td>\n",
              "      <td>-11.352864</td>\n",
              "      <td>12.007080</td>\n",
              "      <td>203.788923</td>\n",
              "      <td>155.760603</td>\n",
              "      <td>158.564897</td>\n",
              "      <td>155.350006</td>\n",
              "      <td>5.045681</td>\n",
              "    </tr>\n",
              "    <tr>\n",
              "      <th>2261</th>\n",
              "      <td>2018-12-26</td>\n",
              "      <td>162.929993</td>\n",
              "      <td>165.214286</td>\n",
              "      <td>178.528572</td>\n",
              "      <td>180.844563</td>\n",
              "      <td>169.694884</td>\n",
              "      <td>-11.149679</td>\n",
              "      <td>11.991685</td>\n",
              "      <td>202.511942</td>\n",
              "      <td>154.545201</td>\n",
              "      <td>161.474961</td>\n",
              "      <td>161.929993</td>\n",
              "      <td>5.087164</td>\n",
              "    </tr>\n",
              "    <tr>\n",
              "      <th>2262</th>\n",
              "      <td>2018-12-27</td>\n",
              "      <td>165.410004</td>\n",
              "      <td>164.842859</td>\n",
              "      <td>177.150953</td>\n",
              "      <td>179.701262</td>\n",
              "      <td>169.035672</td>\n",
              "      <td>-10.665590</td>\n",
              "      <td>11.677966</td>\n",
              "      <td>200.506885</td>\n",
              "      <td>153.795021</td>\n",
              "      <td>164.098323</td>\n",
              "      <td>164.410004</td>\n",
              "      <td>5.102363</td>\n",
              "    </tr>\n",
              "    <tr>\n",
              "      <th>2263</th>\n",
              "      <td>2018-12-28</td>\n",
              "      <td>163.029999</td>\n",
              "      <td>163.632858</td>\n",
              "      <td>175.692858</td>\n",
              "      <td>178.466354</td>\n",
              "      <td>168.111722</td>\n",
              "      <td>-10.354632</td>\n",
              "      <td>10.810508</td>\n",
              "      <td>197.313874</td>\n",
              "      <td>154.071842</td>\n",
              "      <td>163.386107</td>\n",
              "      <td>162.029999</td>\n",
              "      <td>5.087781</td>\n",
              "    </tr>\n",
              "    <tr>\n",
              "      <th>2264</th>\n",
              "      <td>2018-12-31</td>\n",
              "      <td>167.050003</td>\n",
              "      <td>163.318573</td>\n",
              "      <td>174.202382</td>\n",
              "      <td>177.620698</td>\n",
              "      <td>167.948381</td>\n",
              "      <td>-9.672317</td>\n",
              "      <td>9.804801</td>\n",
              "      <td>193.811984</td>\n",
              "      <td>154.592780</td>\n",
              "      <td>165.828704</td>\n",
              "      <td>166.050003</td>\n",
              "      <td>5.112289</td>\n",
              "    </tr>\n",
              "  </tbody>\n",
              "</table>\n",
              "<p>2245 rows × 13 columns</p>\n",
              "</div>\n",
              "      <button class=\"colab-df-convert\" onclick=\"convertToInteractive('df-358d6ffb-0339-4518-b90c-fc00ab8660b5')\"\n",
              "              title=\"Convert this dataframe to an interactive table.\"\n",
              "              style=\"display:none;\">\n",
              "        \n",
              "  <svg xmlns=\"http://www.w3.org/2000/svg\" height=\"24px\"viewBox=\"0 0 24 24\"\n",
              "       width=\"24px\">\n",
              "    <path d=\"M0 0h24v24H0V0z\" fill=\"none\"/>\n",
              "    <path d=\"M18.56 5.44l.94 2.06.94-2.06 2.06-.94-2.06-.94-.94-2.06-.94 2.06-2.06.94zm-11 1L8.5 8.5l.94-2.06 2.06-.94-2.06-.94L8.5 2.5l-.94 2.06-2.06.94zm10 10l.94 2.06.94-2.06 2.06-.94-2.06-.94-.94-2.06-.94 2.06-2.06.94z\"/><path d=\"M17.41 7.96l-1.37-1.37c-.4-.4-.92-.59-1.43-.59-.52 0-1.04.2-1.43.59L10.3 9.45l-7.72 7.72c-.78.78-.78 2.05 0 2.83L4 21.41c.39.39.9.59 1.41.59.51 0 1.02-.2 1.41-.59l7.78-7.78 2.81-2.81c.8-.78.8-2.07 0-2.86zM5.41 20L4 18.59l7.72-7.72 1.47 1.35L5.41 20z\"/>\n",
              "  </svg>\n",
              "      </button>\n",
              "      \n",
              "  <style>\n",
              "    .colab-df-container {\n",
              "      display:flex;\n",
              "      flex-wrap:wrap;\n",
              "      gap: 12px;\n",
              "    }\n",
              "\n",
              "    .colab-df-convert {\n",
              "      background-color: #E8F0FE;\n",
              "      border: none;\n",
              "      border-radius: 50%;\n",
              "      cursor: pointer;\n",
              "      display: none;\n",
              "      fill: #1967D2;\n",
              "      height: 32px;\n",
              "      padding: 0 0 0 0;\n",
              "      width: 32px;\n",
              "    }\n",
              "\n",
              "    .colab-df-convert:hover {\n",
              "      background-color: #E2EBFA;\n",
              "      box-shadow: 0px 1px 2px rgba(60, 64, 67, 0.3), 0px 1px 3px 1px rgba(60, 64, 67, 0.15);\n",
              "      fill: #174EA6;\n",
              "    }\n",
              "\n",
              "    [theme=dark] .colab-df-convert {\n",
              "      background-color: #3B4455;\n",
              "      fill: #D2E3FC;\n",
              "    }\n",
              "\n",
              "    [theme=dark] .colab-df-convert:hover {\n",
              "      background-color: #434B5C;\n",
              "      box-shadow: 0px 1px 3px 1px rgba(0, 0, 0, 0.15);\n",
              "      filter: drop-shadow(0px 1px 2px rgba(0, 0, 0, 0.3));\n",
              "      fill: #FFFFFF;\n",
              "    }\n",
              "  </style>\n",
              "\n",
              "      <script>\n",
              "        const buttonEl =\n",
              "          document.querySelector('#df-358d6ffb-0339-4518-b90c-fc00ab8660b5 button.colab-df-convert');\n",
              "        buttonEl.style.display =\n",
              "          google.colab.kernel.accessAllowed ? 'block' : 'none';\n",
              "\n",
              "        async function convertToInteractive(key) {\n",
              "          const element = document.querySelector('#df-358d6ffb-0339-4518-b90c-fc00ab8660b5');\n",
              "          const dataTable =\n",
              "            await google.colab.kernel.invokeFunction('convertToInteractive',\n",
              "                                                     [key], {});\n",
              "          if (!dataTable) return;\n",
              "\n",
              "          const docLinkHtml = 'Like what you see? Visit the ' +\n",
              "            '<a target=\"_blank\" href=https://colab.research.google.com/notebooks/data_table.ipynb>data table notebook</a>'\n",
              "            + ' to learn more about interactive tables.';\n",
              "          element.innerHTML = '';\n",
              "          dataTable['output_type'] = 'display_data';\n",
              "          await google.colab.output.renderOutput(dataTable, element);\n",
              "          const docLink = document.createElement('div');\n",
              "          docLink.innerHTML = docLinkHtml;\n",
              "          element.appendChild(docLink);\n",
              "        }\n",
              "      </script>\n",
              "    </div>\n",
              "  </div>\n",
              "  "
            ]
          },
          "metadata": {},
          "execution_count": 125
        }
      ]
    },
    {
      "cell_type": "code",
      "source": [
        "dataset_TI_df.head()"
      ],
      "metadata": {
        "id": "lDJBymBaG145",
        "colab": {
          "base_uri": "https://localhost:8080/",
          "height": 206
        },
        "outputId": "7ef374f9-ea71-4df3-a0bc-85a398eeade8"
      },
      "execution_count": null,
      "outputs": [
        {
          "output_type": "execute_result",
          "data": {
            "text/plain": [
              "         Date       Close         ma7        ma21       26ema       12ema  \\\n",
              "20 2010-02-01  153.130005  152.374285  164.220476  160.321839  156.655072   \n",
              "21 2010-02-02  156.940002  152.777143  163.653809  160.014868  156.700047   \n",
              "22 2010-02-03  157.229996  153.098572  162.899047  159.766235  156.783365   \n",
              "23 2010-02-04  150.679993  153.069999  161.686666  158.967168  155.827031   \n",
              "24 2010-02-05  154.160004  153.449999  160.729523  158.550196  155.566566   \n",
              "\n",
              "        MACD      20sd  upper_band  lower_band         ema    momentum  \\\n",
              "20 -3.666767  9.607375  183.435226  145.005726  152.113609  152.130005   \n",
              "21 -3.314821  9.480630  182.615070  144.692549  155.331204  155.940002   \n",
              "22 -2.982871  9.053702  181.006450  144.791644  156.597065  156.229996   \n",
              "23 -3.140137  8.940246  179.567158  143.806174  152.652350  149.679993   \n",
              "24 -2.983631  8.151912  177.033348  144.425699  153.657453  153.160004   \n",
              "\n",
              "    log_momentum  \n",
              "20      5.024735  \n",
              "21      5.049471  \n",
              "22      5.051329  \n",
              "23      5.008500  \n",
              "24      5.031483  "
            ],
            "text/html": [
              "\n",
              "  <div id=\"df-ddbf70c0-333e-4b99-a991-7edbe0515fcf\">\n",
              "    <div class=\"colab-df-container\">\n",
              "      <div>\n",
              "<style scoped>\n",
              "    .dataframe tbody tr th:only-of-type {\n",
              "        vertical-align: middle;\n",
              "    }\n",
              "\n",
              "    .dataframe tbody tr th {\n",
              "        vertical-align: top;\n",
              "    }\n",
              "\n",
              "    .dataframe thead th {\n",
              "        text-align: right;\n",
              "    }\n",
              "</style>\n",
              "<table border=\"1\" class=\"dataframe\">\n",
              "  <thead>\n",
              "    <tr style=\"text-align: right;\">\n",
              "      <th></th>\n",
              "      <th>Date</th>\n",
              "      <th>Close</th>\n",
              "      <th>ma7</th>\n",
              "      <th>ma21</th>\n",
              "      <th>26ema</th>\n",
              "      <th>12ema</th>\n",
              "      <th>MACD</th>\n",
              "      <th>20sd</th>\n",
              "      <th>upper_band</th>\n",
              "      <th>lower_band</th>\n",
              "      <th>ema</th>\n",
              "      <th>momentum</th>\n",
              "      <th>log_momentum</th>\n",
              "    </tr>\n",
              "  </thead>\n",
              "  <tbody>\n",
              "    <tr>\n",
              "      <th>20</th>\n",
              "      <td>2010-02-01</td>\n",
              "      <td>153.130005</td>\n",
              "      <td>152.374285</td>\n",
              "      <td>164.220476</td>\n",
              "      <td>160.321839</td>\n",
              "      <td>156.655072</td>\n",
              "      <td>-3.666767</td>\n",
              "      <td>9.607375</td>\n",
              "      <td>183.435226</td>\n",
              "      <td>145.005726</td>\n",
              "      <td>152.113609</td>\n",
              "      <td>152.130005</td>\n",
              "      <td>5.024735</td>\n",
              "    </tr>\n",
              "    <tr>\n",
              "      <th>21</th>\n",
              "      <td>2010-02-02</td>\n",
              "      <td>156.940002</td>\n",
              "      <td>152.777143</td>\n",
              "      <td>163.653809</td>\n",
              "      <td>160.014868</td>\n",
              "      <td>156.700047</td>\n",
              "      <td>-3.314821</td>\n",
              "      <td>9.480630</td>\n",
              "      <td>182.615070</td>\n",
              "      <td>144.692549</td>\n",
              "      <td>155.331204</td>\n",
              "      <td>155.940002</td>\n",
              "      <td>5.049471</td>\n",
              "    </tr>\n",
              "    <tr>\n",
              "      <th>22</th>\n",
              "      <td>2010-02-03</td>\n",
              "      <td>157.229996</td>\n",
              "      <td>153.098572</td>\n",
              "      <td>162.899047</td>\n",
              "      <td>159.766235</td>\n",
              "      <td>156.783365</td>\n",
              "      <td>-2.982871</td>\n",
              "      <td>9.053702</td>\n",
              "      <td>181.006450</td>\n",
              "      <td>144.791644</td>\n",
              "      <td>156.597065</td>\n",
              "      <td>156.229996</td>\n",
              "      <td>5.051329</td>\n",
              "    </tr>\n",
              "    <tr>\n",
              "      <th>23</th>\n",
              "      <td>2010-02-04</td>\n",
              "      <td>150.679993</td>\n",
              "      <td>153.069999</td>\n",
              "      <td>161.686666</td>\n",
              "      <td>158.967168</td>\n",
              "      <td>155.827031</td>\n",
              "      <td>-3.140137</td>\n",
              "      <td>8.940246</td>\n",
              "      <td>179.567158</td>\n",
              "      <td>143.806174</td>\n",
              "      <td>152.652350</td>\n",
              "      <td>149.679993</td>\n",
              "      <td>5.008500</td>\n",
              "    </tr>\n",
              "    <tr>\n",
              "      <th>24</th>\n",
              "      <td>2010-02-05</td>\n",
              "      <td>154.160004</td>\n",
              "      <td>153.449999</td>\n",
              "      <td>160.729523</td>\n",
              "      <td>158.550196</td>\n",
              "      <td>155.566566</td>\n",
              "      <td>-2.983631</td>\n",
              "      <td>8.151912</td>\n",
              "      <td>177.033348</td>\n",
              "      <td>144.425699</td>\n",
              "      <td>153.657453</td>\n",
              "      <td>153.160004</td>\n",
              "      <td>5.031483</td>\n",
              "    </tr>\n",
              "  </tbody>\n",
              "</table>\n",
              "</div>\n",
              "      <button class=\"colab-df-convert\" onclick=\"convertToInteractive('df-ddbf70c0-333e-4b99-a991-7edbe0515fcf')\"\n",
              "              title=\"Convert this dataframe to an interactive table.\"\n",
              "              style=\"display:none;\">\n",
              "        \n",
              "  <svg xmlns=\"http://www.w3.org/2000/svg\" height=\"24px\"viewBox=\"0 0 24 24\"\n",
              "       width=\"24px\">\n",
              "    <path d=\"M0 0h24v24H0V0z\" fill=\"none\"/>\n",
              "    <path d=\"M18.56 5.44l.94 2.06.94-2.06 2.06-.94-2.06-.94-.94-2.06-.94 2.06-2.06.94zm-11 1L8.5 8.5l.94-2.06 2.06-.94-2.06-.94L8.5 2.5l-.94 2.06-2.06.94zm10 10l.94 2.06.94-2.06 2.06-.94-2.06-.94-.94-2.06-.94 2.06-2.06.94z\"/><path d=\"M17.41 7.96l-1.37-1.37c-.4-.4-.92-.59-1.43-.59-.52 0-1.04.2-1.43.59L10.3 9.45l-7.72 7.72c-.78.78-.78 2.05 0 2.83L4 21.41c.39.39.9.59 1.41.59.51 0 1.02-.2 1.41-.59l7.78-7.78 2.81-2.81c.8-.78.8-2.07 0-2.86zM5.41 20L4 18.59l7.72-7.72 1.47 1.35L5.41 20z\"/>\n",
              "  </svg>\n",
              "      </button>\n",
              "      \n",
              "  <style>\n",
              "    .colab-df-container {\n",
              "      display:flex;\n",
              "      flex-wrap:wrap;\n",
              "      gap: 12px;\n",
              "    }\n",
              "\n",
              "    .colab-df-convert {\n",
              "      background-color: #E8F0FE;\n",
              "      border: none;\n",
              "      border-radius: 50%;\n",
              "      cursor: pointer;\n",
              "      display: none;\n",
              "      fill: #1967D2;\n",
              "      height: 32px;\n",
              "      padding: 0 0 0 0;\n",
              "      width: 32px;\n",
              "    }\n",
              "\n",
              "    .colab-df-convert:hover {\n",
              "      background-color: #E2EBFA;\n",
              "      box-shadow: 0px 1px 2px rgba(60, 64, 67, 0.3), 0px 1px 3px 1px rgba(60, 64, 67, 0.15);\n",
              "      fill: #174EA6;\n",
              "    }\n",
              "\n",
              "    [theme=dark] .colab-df-convert {\n",
              "      background-color: #3B4455;\n",
              "      fill: #D2E3FC;\n",
              "    }\n",
              "\n",
              "    [theme=dark] .colab-df-convert:hover {\n",
              "      background-color: #434B5C;\n",
              "      box-shadow: 0px 1px 3px 1px rgba(0, 0, 0, 0.15);\n",
              "      filter: drop-shadow(0px 1px 2px rgba(0, 0, 0, 0.3));\n",
              "      fill: #FFFFFF;\n",
              "    }\n",
              "  </style>\n",
              "\n",
              "      <script>\n",
              "        const buttonEl =\n",
              "          document.querySelector('#df-ddbf70c0-333e-4b99-a991-7edbe0515fcf button.colab-df-convert');\n",
              "        buttonEl.style.display =\n",
              "          google.colab.kernel.accessAllowed ? 'block' : 'none';\n",
              "\n",
              "        async function convertToInteractive(key) {\n",
              "          const element = document.querySelector('#df-ddbf70c0-333e-4b99-a991-7edbe0515fcf');\n",
              "          const dataTable =\n",
              "            await google.colab.kernel.invokeFunction('convertToInteractive',\n",
              "                                                     [key], {});\n",
              "          if (!dataTable) return;\n",
              "\n",
              "          const docLinkHtml = 'Like what you see? Visit the ' +\n",
              "            '<a target=\"_blank\" href=https://colab.research.google.com/notebooks/data_table.ipynb>data table notebook</a>'\n",
              "            + ' to learn more about interactive tables.';\n",
              "          element.innerHTML = '';\n",
              "          dataTable['output_type'] = 'display_data';\n",
              "          await google.colab.output.renderOutput(dataTable, element);\n",
              "          const docLink = document.createElement('div');\n",
              "          docLink.innerHTML = docLinkHtml;\n",
              "          element.appendChild(docLink);\n",
              "        }\n",
              "      </script>\n",
              "    </div>\n",
              "  </div>\n",
              "  "
            ]
          },
          "metadata": {},
          "execution_count": 126
        }
      ]
    },
    {
      "cell_type": "code",
      "source": [
        "def plot_technical_indicators(dataset, last_days):\n",
        "    plt.figure(figsize=(16, 10), dpi=100)\n",
        "    shape_0 = dataset.shape[0]\n",
        "    xmacd_ = shape_0-last_days\n",
        "    \n",
        "    dataset = dataset.iloc[-last_days:, :]\n",
        "    x_ = range(3, dataset.shape[0])\n",
        "    x_ =list(dataset.index)\n",
        "    \n",
        "    # Plot first subplot\n",
        "    plt.subplot(2, 1, 1)\n",
        "    plt.plot(dataset['ma7'],label='MA 7', color='g',linestyle='--')\n",
        "    plt.plot(dataset['Close'],label='Closing Price', color='b')\n",
        "    plt.plot(dataset['ma21'],label='MA 21', color='r',linestyle='--')\n",
        "    plt.plot(dataset['upper_band'],label='Upper Band', color='c')\n",
        "    plt.plot(dataset['lower_band'],label='Lower Band', color='c')\n",
        "    plt.fill_between(x_, dataset['lower_band'], dataset['upper_band'], alpha=0.35)\n",
        "    plt.title('Technical indicators for Goldman Sachs - last {} days.'.format(last_days))\n",
        "    plt.ylabel('USD')\n",
        "    plt.legend()\n",
        "\n",
        "    # Plot second subplot\n",
        "    plt.subplot(2, 1, 2)\n",
        "    plt.title('MACD')\n",
        "    plt.plot(dataset['MACD'],label='MACD', linestyle='-.')\n",
        "    plt.hlines(15, xmacd_, shape_0, colors='g', linestyles='--')\n",
        "    plt.hlines(-15, xmacd_, shape_0, colors='g', linestyles='--')\n",
        "    plt.plot(dataset['log_momentum'],label='Momentum', color='b',linestyle='-')\n",
        "\n",
        "    plt.legend()\n",
        "    plt.show()"
      ],
      "metadata": {
        "id": "U1SqDtwaG12W"
      },
      "execution_count": null,
      "outputs": []
    },
    {
      "cell_type": "code",
      "source": [
        "plot_technical_indicators(dataset_TI_df, 400)"
      ],
      "metadata": {
        "id": "YHOx9thzG1zL",
        "colab": {
          "base_uri": "https://localhost:8080/",
          "height": 838
        },
        "outputId": "34c978bb-c7b6-41bf-ee73-fc493d49a265"
      },
      "execution_count": null,
      "outputs": [
        {
          "output_type": "display_data",
          "data": {
            "text/plain": [
              "<Figure size 1600x1000 with 2 Axes>"
            ],
            "image/png": "[encoded data removed]"
          },
          "metadata": {
            "needs_background": "light"
          }
        }
      ]
    },
    {
      "cell_type": "code",
      "source": [
        "# just import bert\n",
        "!pip install bert \n",
        "import bert"
      ],
      "metadata": {
        "id": "zRjckpHkG1v9",
        "colab": {
          "base_uri": "https://localhost:8080/"
        },
        "outputId": "55c881db-5abb-4822-9f3b-1e0b8077fdee"
      },
      "execution_count": null,
      "outputs": [
        {
          "output_type": "stream",
          "name": "stdout",
          "text": [
            "Looking in indexes: https://pypi.org/simple, https://us-python.pkg.dev/colab-wheels/public/simple/\n",
            "Collecting bert\n",
            "  Downloading bert-2.2.0.tar.gz (3.5 kB)\n",
            "Collecting erlastic\n",
            "  Downloading erlastic-2.0.0.tar.gz (6.8 kB)\n",
            "Building wheels for collected packages: bert, erlastic\n",
            "  Building wheel for bert (setup.py) ... \u001b[?25l\u001b[?25hdone\n",
            "  Created wheel for bert: filename=bert-2.2.0-py3-none-any.whl size=3765 sha256=a8a7a5bb4e231a066695b2670cd1d7947e28935250e7a5e8069cee672f4bd492\n",
            "  Stored in directory: /root/.cache/pip/wheels/bb/31/1b/c05f362e347429b7436954d1a2280fe464731e8f569123a848\n",
            "  Building wheel for erlastic (setup.py) ... \u001b[?25l\u001b[?25hdone\n",
            "  Created wheel for erlastic: filename=erlastic-2.0.0-py3-none-any.whl size=6794 sha256=3874e07f3fac895dc24ca3b42faa095eb31b79b786d9e8be561b2078ff18f9b1\n",
            "  Stored in directory: /root/.cache/pip/wheels/94/f1/b4/0b98b1e94775da6a0b1130e342d22af05cd269e1172c19f40f\n",
            "Successfully built bert erlastic\n",
            "Installing collected packages: erlastic, bert\n",
            "Successfully installed bert-2.2.0 erlastic-2.0.0\n"
          ]
        }
      ]
    },
    {
      "cell_type": "code",
      "source": [
        "data_FT = dataset_ex_df[['Date', 'Close']]"
      ],
      "metadata": {
        "id": "JVXEOgUfG1tQ"
      },
      "execution_count": 132,
      "outputs": []
    },
    {
      "cell_type": "code",
      "source": [
        "close_fft = np.fft.fft(np.asarray(data_FT['GS'].tolist()))\n",
        "fft_df = pd.DataFrame({'fft':close_fft})\n",
        "fft_df['absolute'] = fft_df['fft'].apply(lambda x: np.abs(x))\n",
        "fft_df['angle'] = fft_df['fft'].apply(lambda x: np.angle(x))"
      ],
      "metadata": {
        "id": "LUpydZDpG1qk",
        "outputId": "23dbc4db-62cb-4868-9849-6c50e6b10aed",
        "colab": {
          "base_uri": "https://localhost:8080/",
          "height": 502
        }
      },
      "execution_count": 133,
      "outputs": [
        {
          "output_type": "error",
          "ename": "KeyError",
          "evalue": "ignored",
          "traceback": [
            "\u001b[0;31m---------------------------------------------------------------------------\u001b[0m",
            "\u001b[0;31mKeyError\u001b[0m                                  Traceback (most recent call last)",
            "\u001b[0;32m/usr/local/lib/python3.7/dist-packages/pandas/core/indexes/base.py\u001b[0m in \u001b[0;36mget_loc\u001b[0;34m(self, key, method, tolerance)\u001b[0m\n\u001b[1;32m   3360\u001b[0m             \u001b[0;32mtry\u001b[0m\u001b[0;34m:\u001b[0m\u001b[0;34m\u001b[0m\u001b[0;34m\u001b[0m\u001b[0m\n\u001b[0;32m-> 3361\u001b[0;31m                 \u001b[0;32mreturn\u001b[0m \u001b[0mself\u001b[0m\u001b[0;34m.\u001b[0m\u001b[0m_engine\u001b[0m\u001b[0;34m.\u001b[0m\u001b[0mget_loc\u001b[0m\u001b[0;34m(\u001b[0m\u001b[0mcasted_key\u001b[0m\u001b[0;34m)\u001b[0m\u001b[0;34m\u001b[0m\u001b[0;34m\u001b[0m\u001b[0m\n\u001b[0m\u001b[1;32m   3362\u001b[0m             \u001b[0;32mexcept\u001b[0m \u001b[0mKeyError\u001b[0m \u001b[0;32mas\u001b[0m \u001b[0merr\u001b[0m\u001b[0;34m:\u001b[0m\u001b[0;34m\u001b[0m\u001b[0;34m\u001b[0m\u001b[0m\n",
            "\u001b[0;32m/usr/local/lib/python3.7/dist-packages/pandas/_libs/index.pyx\u001b[0m in \u001b[0;36mpandas._libs.index.IndexEngine.get_loc\u001b[0;34m()\u001b[0m\n",
            "\u001b[0;32m/usr/local/lib/python3.7/dist-packages/pandas/_libs/index.pyx\u001b[0m in \u001b[0;36mpandas._libs.index.IndexEngine.get_loc\u001b[0;34m()\u001b[0m\n",
            "\u001b[0;32mpandas/_libs/hashtable_class_helper.pxi\u001b[0m in \u001b[0;36mpandas._libs.hashtable.PyObjectHashTable.get_item\u001b[0;34m()\u001b[0m\n",
            "\u001b[0;32mpandas/_libs/hashtable_class_helper.pxi\u001b[0m in \u001b[0;36mpandas._libs.hashtable.PyObjectHashTable.get_item\u001b[0;34m()\u001b[0m\n",
            "\u001b[0;31mKeyError\u001b[0m: 'GS'",
            "\nThe above exception was the direct cause of the following exception:\n",
            "\u001b[0;31mKeyError\u001b[0m                                  Traceback (most recent call last)",
            "\u001b[0;32m<ipython-input-133-f8eb38a82357>\u001b[0m in \u001b[0;36m<module>\u001b[0;34m()\u001b[0m\n\u001b[0;32m----> 1\u001b[0;31m \u001b[0mclose_fft\u001b[0m \u001b[0;34m=\u001b[0m \u001b[0mnp\u001b[0m\u001b[0;34m.\u001b[0m\u001b[0mfft\u001b[0m\u001b[0;34m.\u001b[0m\u001b[0mfft\u001b[0m\u001b[0;34m(\u001b[0m\u001b[0mnp\u001b[0m\u001b[0;34m.\u001b[0m\u001b[0masarray\u001b[0m\u001b[0;34m(\u001b[0m\u001b[0mdata_FT\u001b[0m\u001b[0;34m[\u001b[0m\u001b[0;34m'GS'\u001b[0m\u001b[0;34m]\u001b[0m\u001b[0;34m.\u001b[0m\u001b[0mtolist\u001b[0m\u001b[0;34m(\u001b[0m\u001b[0;34m)\u001b[0m\u001b[0;34m)\u001b[0m\u001b[0;34m)\u001b[0m\u001b[0;34m\u001b[0m\u001b[0;34m\u001b[0m\u001b[0m\n\u001b[0m\u001b[1;32m      2\u001b[0m \u001b[0mfft_df\u001b[0m \u001b[0;34m=\u001b[0m \u001b[0mpd\u001b[0m\u001b[0;34m.\u001b[0m\u001b[0mDataFrame\u001b[0m\u001b[0;34m(\u001b[0m\u001b[0;34m{\u001b[0m\u001b[0;34m'fft'\u001b[0m\u001b[0;34m:\u001b[0m\u001b[0mclose_fft\u001b[0m\u001b[0;34m}\u001b[0m\u001b[0;34m)\u001b[0m\u001b[0;34m\u001b[0m\u001b[0;34m\u001b[0m\u001b[0m\n\u001b[1;32m      3\u001b[0m \u001b[0mfft_df\u001b[0m\u001b[0;34m[\u001b[0m\u001b[0;34m'absolute'\u001b[0m\u001b[0;34m]\u001b[0m \u001b[0;34m=\u001b[0m \u001b[0mfft_df\u001b[0m\u001b[0;34m[\u001b[0m\u001b[0;34m'fft'\u001b[0m\u001b[0;34m]\u001b[0m\u001b[0;34m.\u001b[0m\u001b[0mapply\u001b[0m\u001b[0;34m(\u001b[0m\u001b[0;32mlambda\u001b[0m \u001b[0mx\u001b[0m\u001b[0;34m:\u001b[0m \u001b[0mnp\u001b[0m\u001b[0;34m.\u001b[0m\u001b[0mabs\u001b[0m\u001b[0;34m(\u001b[0m\u001b[0mx\u001b[0m\u001b[0;34m)\u001b[0m\u001b[0;34m)\u001b[0m\u001b[0;34m\u001b[0m\u001b[0;34m\u001b[0m\u001b[0m\n\u001b[1;32m      4\u001b[0m \u001b[0mfft_df\u001b[0m\u001b[0;34m[\u001b[0m\u001b[0;34m'angle'\u001b[0m\u001b[0;34m]\u001b[0m \u001b[0;34m=\u001b[0m \u001b[0mfft_df\u001b[0m\u001b[0;34m[\u001b[0m\u001b[0;34m'fft'\u001b[0m\u001b[0;34m]\u001b[0m\u001b[0;34m.\u001b[0m\u001b[0mapply\u001b[0m\u001b[0;34m(\u001b[0m\u001b[0;32mlambda\u001b[0m \u001b[0mx\u001b[0m\u001b[0;34m:\u001b[0m \u001b[0mnp\u001b[0m\u001b[0;34m.\u001b[0m\u001b[0mangle\u001b[0m\u001b[0;34m(\u001b[0m\u001b[0mx\u001b[0m\u001b[0;34m)\u001b[0m\u001b[0;34m)\u001b[0m\u001b[0;34m\u001b[0m\u001b[0;34m\u001b[0m\u001b[0m\n",
            "\u001b[0;32m/usr/local/lib/python3.7/dist-packages/pandas/core/frame.py\u001b[0m in \u001b[0;36m__getitem__\u001b[0;34m(self, key)\u001b[0m\n\u001b[1;32m   3456\u001b[0m             \u001b[0;32mif\u001b[0m \u001b[0mself\u001b[0m\u001b[0;34m.\u001b[0m\u001b[0mcolumns\u001b[0m\u001b[0;34m.\u001b[0m\u001b[0mnlevels\u001b[0m \u001b[0;34m>\u001b[0m \u001b[0;36m1\u001b[0m\u001b[0;34m:\u001b[0m\u001b[0;34m\u001b[0m\u001b[0;34m\u001b[0m\u001b[0m\n\u001b[1;32m   3457\u001b[0m                 \u001b[0;32mreturn\u001b[0m \u001b[0mself\u001b[0m\u001b[0;34m.\u001b[0m\u001b[0m_getitem_multilevel\u001b[0m\u001b[0;34m(\u001b[0m\u001b[0mkey\u001b[0m\u001b[0;34m)\u001b[0m\u001b[0;34m\u001b[0m\u001b[0;34m\u001b[0m\u001b[0m\n\u001b[0;32m-> 3458\u001b[0;31m             \u001b[0mindexer\u001b[0m \u001b[0;34m=\u001b[0m \u001b[0mself\u001b[0m\u001b[0;34m.\u001b[0m\u001b[0mcolumns\u001b[0m\u001b[0;34m.\u001b[0m\u001b[0mget_loc\u001b[0m\u001b[0;34m(\u001b[0m\u001b[0mkey\u001b[0m\u001b[0;34m)\u001b[0m\u001b[0;34m\u001b[0m\u001b[0;34m\u001b[0m\u001b[0m\n\u001b[0m\u001b[1;32m   3459\u001b[0m             \u001b[0;32mif\u001b[0m \u001b[0mis_integer\u001b[0m\u001b[0;34m(\u001b[0m\u001b[0mindexer\u001b[0m\u001b[0;34m)\u001b[0m\u001b[0;34m:\u001b[0m\u001b[0;34m\u001b[0m\u001b[0;34m\u001b[0m\u001b[0m\n\u001b[1;32m   3460\u001b[0m                 \u001b[0mindexer\u001b[0m \u001b[0;34m=\u001b[0m \u001b[0;34m[\u001b[0m\u001b[0mindexer\u001b[0m\u001b[0;34m]\u001b[0m\u001b[0;34m\u001b[0m\u001b[0;34m\u001b[0m\u001b[0m\n",
            "\u001b[0;32m/usr/local/lib/python3.7/dist-packages/pandas/core/indexes/base.py\u001b[0m in \u001b[0;36mget_loc\u001b[0;34m(self, key, method, tolerance)\u001b[0m\n\u001b[1;32m   3361\u001b[0m                 \u001b[0;32mreturn\u001b[0m \u001b[0mself\u001b[0m\u001b[0;34m.\u001b[0m\u001b[0m_engine\u001b[0m\u001b[0;34m.\u001b[0m\u001b[0mget_loc\u001b[0m\u001b[0;34m(\u001b[0m\u001b[0mcasted_key\u001b[0m\u001b[0;34m)\u001b[0m\u001b[0;34m\u001b[0m\u001b[0;34m\u001b[0m\u001b[0m\n\u001b[1;32m   3362\u001b[0m             \u001b[0;32mexcept\u001b[0m \u001b[0mKeyError\u001b[0m \u001b[0;32mas\u001b[0m \u001b[0merr\u001b[0m\u001b[0;34m:\u001b[0m\u001b[0;34m\u001b[0m\u001b[0;34m\u001b[0m\u001b[0m\n\u001b[0;32m-> 3363\u001b[0;31m                 \u001b[0;32mraise\u001b[0m \u001b[0mKeyError\u001b[0m\u001b[0;34m(\u001b[0m\u001b[0mkey\u001b[0m\u001b[0;34m)\u001b[0m \u001b[0;32mfrom\u001b[0m \u001b[0merr\u001b[0m\u001b[0;34m\u001b[0m\u001b[0;34m\u001b[0m\u001b[0m\n\u001b[0m\u001b[1;32m   3364\u001b[0m \u001b[0;34m\u001b[0m\u001b[0m\n\u001b[1;32m   3365\u001b[0m         \u001b[0;32mif\u001b[0m \u001b[0mis_scalar\u001b[0m\u001b[0;34m(\u001b[0m\u001b[0mkey\u001b[0m\u001b[0;34m)\u001b[0m \u001b[0;32mand\u001b[0m \u001b[0misna\u001b[0m\u001b[0;34m(\u001b[0m\u001b[0mkey\u001b[0m\u001b[0;34m)\u001b[0m \u001b[0;32mand\u001b[0m \u001b[0;32mnot\u001b[0m \u001b[0mself\u001b[0m\u001b[0;34m.\u001b[0m\u001b[0mhasnans\u001b[0m\u001b[0;34m:\u001b[0m\u001b[0;34m\u001b[0m\u001b[0;34m\u001b[0m\u001b[0m\n",
            "\u001b[0;31mKeyError\u001b[0m: 'GS'"
          ]
        }
      ]
    },
    {
      "cell_type": "code",
      "source": [
        "plt.figure(figsize=(14, 7), dpi=100)\n",
        "fft_list = np.asarray(fft_df['fft'].tolist())\n",
        "for num_ in [3, 6, 9, 100]:\n",
        "    fft_list_m10= np.copy(fft_list); fft_list_m10[num_:-num_]=0\n",
        "    plt.plot(np.fft.ifft(fft_list_m10), label='Fourier transform with {} components'.format(num_))\n",
        "plt.plot(data_FT['GS'],  label='Real')\n",
        "plt.xlabel('Days')\n",
        "plt.ylabel('USD')\n",
        "plt.title('Figure 3: Goldman Sachs (close) stock prices & Fourier transforms')\n",
        "plt.legend()\n",
        "plt.show()"
      ],
      "metadata": {
        "id": "3-z5dvNmG1nu"
      },
      "execution_count": null,
      "outputs": []
    },
    {
      "cell_type": "code",
      "source": [
        "from collections import deque\n",
        "items = deque(np.asarray(fft_df['absolute'].tolist()))\n",
        "items.rotate(int(np.floor(len(fft_df)/2)))\n",
        "plt.figure(figsize=(10, 7), dpi=80)\n",
        "plt.stem(items)\n",
        "plt.title('Figure 4: Components of Fourier transforms')\n",
        "plt.show()"
      ],
      "metadata": {
        "id": "hgBHpma-G1k3"
      },
      "execution_count": null,
      "outputs": []
    },
    {
      "cell_type": "code",
      "source": [
        "from statsmodels.tsa.arima_model import ARIMA\n",
        "from pandas import DataFrame\n",
        "from pandas import datetime\n",
        "\n",
        "series = data_FT['GS']\n",
        "model = ARIMA(series, order=(5, 1, 0))\n",
        "model_fit = model.fit(disp=0)\n",
        "print(model_fit.summary())"
      ],
      "metadata": {
        "id": "vZpjuY4-G1iC"
      },
      "execution_count": null,
      "outputs": []
    },
    {
      "cell_type": "code",
      "source": [
        "from pandas.tools.plotting import autocorrelation_plot\n",
        "autocorrelation_plot(series)\n",
        "plt.figure(figsize=(10, 7), dpi=80)\n",
        "plt.show() "
      ],
      "metadata": {
        "id": "jxJ7wzrSG1fO"
      },
      "execution_count": null,
      "outputs": []
    },
    {
      "cell_type": "code",
      "source": [
        "from pandas import read_csv\n",
        "from pandas import datetime\n",
        "from statsmodels.tsa.arima_model import ARIMA\n",
        "from sklearn.metrics import mean_squared_error\n",
        "\n",
        "X = series.values\n",
        "size = int(len(X) * 0.66)\n",
        "train, test = X[0:size], X[size:len(X)]\n",
        "history = [x for x in train]\n",
        "predictions = list()\n",
        "for t in range(len(test)):\n",
        "    model = ARIMA(history, order=(5,1,0))\n",
        "    model_fit = model.fit(disp=0)\n",
        "    output = model_fit.forecast()\n",
        "    yhat = output[0]\n",
        "    predictions.append(yhat)\n",
        "    obs = test[t]\n",
        "    history.append(obs)"
      ],
      "metadata": {
        "id": "p8EiLfKlG1bu"
      },
      "execution_count": null,
      "outputs": []
    },
    {
      "cell_type": "code",
      "source": [
        "error = mean_squared_error(test, predictions)\n",
        "print('Test MSE: %.3f' % error)"
      ],
      "metadata": {
        "id": "kJqKeZxj7dxE"
      },
      "execution_count": null,
      "outputs": []
    },
    {
      "cell_type": "code",
      "source": [
        "# Plot the predicted (from ARIMA) and real prices\n",
        "\n",
        "plt.figure(figsize=(12, 6), dpi=100)\n",
        "plt.plot(test, label='Real')\n",
        "plt.plot(predictions, color='red', label='Predicted')\n",
        "plt.xlabel('Days')\n",
        "plt.ylabel('USD')\n",
        "plt.title('Figure 5: ARIMA model on GS stock')\n",
        "plt.legend()\n",
        "plt.show()"
      ],
      "metadata": {
        "id": "KHpdTAUw7due"
      },
      "execution_count": null,
      "outputs": []
    },
    {
      "cell_type": "code",
      "source": [
        "print('Total dataset has {} samples, and {} features.'.format(dataset_total_df.shape[0], \\\n",
        "                                                              dataset_total_df.shape[1]))"
      ],
      "metadata": {
        "id": "M6A1jR1Y7drv"
      },
      "execution_count": null,
      "outputs": []
    },
    {
      "cell_type": "code",
      "source": [
        "def get_feature_importance_data(data_income):\n",
        "    data = data_income.copy()\n",
        "    y = data['price']\n",
        "    X = data.iloc[:, 1:]\n",
        "    \n",
        "    train_samples = int(X.shape[0] * 0.65)\n",
        " \n",
        "    X_train = X.iloc[:train_samples]\n",
        "    X_test = X.iloc[train_samples:]\n",
        "\n",
        "    y_train = y.iloc[:train_samples]\n",
        "    y_test = y.iloc[train_samples:]\n",
        "    \n",
        "    return (X_train, y_train), (X_test, y_test)"
      ],
      "metadata": {
        "id": "oEVwmy0m7do4"
      },
      "execution_count": null,
      "outputs": []
    },
    {
      "cell_type": "code",
      "source": [
        "# Get training and test data\n",
        "(X_train_FI, y_train_FI), (X_test_FI, y_test_FI) = get_feature_importance_data(dataset_TI_df)"
      ],
      "metadata": {
        "id": "yRjf2B3F7dl5"
      },
      "execution_count": null,
      "outputs": []
    },
    {
      "cell_type": "code",
      "source": [
        "xgbModel = regressor.fit(X_train_FI,y_train_FI, \\\n",
        "                         eval_set = [(X_train_FI, y_train_FI), (X_test_FI, y_test_FI)], \\\n",
        "                         verbose=False)"
      ],
      "metadata": {
        "id": "pDCFuCSy7l0m"
      },
      "execution_count": null,
      "outputs": []
    },
    {
      "cell_type": "code",
      "source": [
        "eval_result = regressor.evals_result()"
      ],
      "metadata": {
        "id": "7Aiu4DX87lxw"
      },
      "execution_count": null,
      "outputs": []
    },
    {
      "cell_type": "code",
      "source": [
        "training_rounds = range(len(eval_result['validation_0']['rmse']))"
      ],
      "metadata": {
        "id": "77xb7dH57lvD"
      },
      "execution_count": null,
      "outputs": []
    },
    {
      "cell_type": "code",
      "source": [
        "plt.scatter(x=training_rounds,y=eval_result['validation_0']['rmse'],label='Training Error')\n",
        "plt.scatter(x=training_rounds,y=eval_result['validation_1']['rmse'],label='Validation Error')\n",
        "plt.xlabel('Iterations')\n",
        "plt.ylabel('RMSE')\n",
        "plt.title('Training Vs Validation Error')\n",
        "plt.legend()\n",
        "plt.show()"
      ],
      "metadata": {
        "id": "KoAfEch87lsO"
      },
      "execution_count": null,
      "outputs": []
    },
    {
      "cell_type": "code",
      "source": [
        "fig = plt.figure(figsize=(8,8))\n",
        "plt.xticks(rotation='vertical')\n",
        "plt.bar([i for i in range(len(xgbModel.feature_importances_))], xgbModel.feature_importances_.tolist(), tick_label=X_test_FI.columns)\n",
        "plt.title('Figure 6: Feature importance of the technical indicators.')\n",
        "plt.show()"
      ],
      "metadata": {
        "id": "CO7UESkr7lpm"
      },
      "execution_count": null,
      "outputs": []
    },
    {
      "cell_type": "code",
      "source": [
        "def gelu(x):\n",
        "    return 0.5 * x * (1 + math.tanh(math.sqrt(2 / math.pi) * (x + 0.044715 * math.pow(x, 3))))\n",
        "def relu(x):\n",
        "    return max(x, 0)\n",
        "def lrelu(x):\n",
        "    return max(0.01*x, x)"
      ],
      "metadata": {
        "id": "AJAfeRfA7lmk"
      },
      "execution_count": null,
      "outputs": []
    },
    {
      "cell_type": "code",
      "source": [
        "plt.figure(figsize=(15, 5))\n",
        "plt.subplots_adjust(left=None, bottom=None, right=None, top=None, wspace=.5, hspace=None)\n",
        "\n",
        "ranges_ = (-10, 3, .25)\n",
        "\n",
        "plt.subplot(1, 2, 1)\n",
        "plt.plot([i for i in np.arange(*ranges_)], [relu(i) for i in np.arange(*ranges_)], label='ReLU', marker='.')\n",
        "plt.plot([i for i in np.arange(*ranges_)], [gelu(i) for i in np.arange(*ranges_)], label='GELU')\n",
        "plt.hlines(0, -10, 3, colors='gray', linestyles='--', label='0')\n",
        "plt.title('Figure 7: GELU as an activation function for autoencoders')\n",
        "plt.ylabel('f(x) for GELU and ReLU')\n",
        "plt.xlabel('x')\n",
        "plt.legend()\n",
        "\n",
        "plt.subplot(1, 2, 2)\n",
        "plt.plot([i for i in np.arange(*ranges_)], [lrelu(i) for i in np.arange(*ranges_)], label='Leaky ReLU')\n",
        "plt.hlines(0, -10, 3, colors='gray', linestyles='--', label='0')\n",
        "plt.ylabel('f(x) for Leaky ReLU')\n",
        "plt.xlabel('x')\n",
        "plt.title('Figure 8: LeakyReLU')\n",
        "plt.legend()\n",
        "\n",
        "plt.show()"
      ],
      "metadata": {
        "id": "poVo06QD7ljp"
      },
      "execution_count": null,
      "outputs": []
    },
    {
      "cell_type": "code",
      "source": [
        "batch_size = 64\n",
        "n_batches = VAE_data.shape[0]/batch_size\n",
        "VAE_data = VAE_data.values\n",
        "\n",
        "train_iter = mx.io.NDArrayIter(data={'data': VAE_data[:num_training_days,:-1]}, \\\n",
        "                               label={'label': VAE_data[:num_training_days, -1]}, batch_size = batch_size)\n",
        "test_iter = mx.io.NDArrayIter(data={'data': VAE_data[num_training_days:,:-1]}, \\\n",
        "                              label={'label': VAE_data[num_training_days:,-1]}, batch_size = batch_size)"
      ],
      "metadata": {
        "id": "qZUSspjs7dhe"
      },
      "execution_count": null,
      "outputs": []
    },
    {
      "cell_type": "code",
      "source": [
        "model_ctx =  mx.cpu()\n",
        "class VAE(gluon.HybridBlock):\n",
        "    def __init__(self, n_hidden=400, n_latent=2, n_layers=1, n_output=784, \\\n",
        "                 batch_size=100, act_type='relu', **kwargs):\n",
        "        self.soft_zero = 1e-10\n",
        "        self.n_latent = n_latent\n",
        "        self.batch_size = batch_size\n",
        "        self.output = None\n",
        "        self.mu = None\n",
        "        super(VAE, self).__init__(**kwargs)\n",
        "        \n",
        "        with self.name_scope():\n",
        "            self.encoder = nn.HybridSequential(prefix='encoder')\n",
        "            \n",
        "            for i in range(n_layers):\n",
        "                self.encoder.add(nn.Dense(n_hidden, activation=act_type))\n",
        "            self.encoder.add(nn.Dense(n_latent*2, activation=None))\n",
        "\n",
        "            self.decoder = nn.HybridSequential(prefix='decoder')\n",
        "            for i in range(n_layers):\n",
        "                self.decoder.add(nn.Dense(n_hidden, activation=act_type))\n",
        "            self.decoder.add(nn.Dense(n_output, activation='sigmoid'))\n",
        "\n",
        "    def hybrid_forward(self, F, x):\n",
        "        h = self.encoder(x)\n",
        "        #print(h)\n",
        "        mu_lv = F.split(h, axis=1, num_outputs=2)\n",
        "        mu = mu_lv[0]\n",
        "        lv = mu_lv[1]\n",
        "        self.mu = mu\n",
        "\n",
        "        eps = F.random_normal(loc=0, scale=1, shape=(self.batch_size, self.n_latent), ctx=model_ctx)\n",
        "        z = mu + F.exp(0.5*lv)*eps\n",
        "        y = self.decoder(z)\n",
        "        self.output = y\n",
        "\n",
        "        KL = 0.5*F.sum(1+lv-mu*mu-F.exp(lv),axis=1)\n",
        "        logloss = F.sum(x*F.log(y+self.soft_zero)+ (1-x)*F.log(1-y+self.soft_zero), axis=1)\n",
        "        loss = -logloss-KL\n",
        "\n",
        "        return loss"
      ],
      "metadata": {
        "id": "dSJIviOx7zlP"
      },
      "execution_count": null,
      "outputs": []
    },
    {
      "cell_type": "code",
      "source": [
        "n_hidden=400 # neurons in each layer\n",
        "n_latent=2 \n",
        "n_layers=3 # num of dense layers in encoder and decoder respectively\n",
        "n_output=VAE_data.shape[1]-1 \n",
        "\n",
        "net = VAE(n_hidden=n_hidden, n_latent=n_latent, n_layers=n_layers, n_output=n_output, batch_size=batch_size, act_type='gelu')"
      ],
      "metadata": {
        "id": "JuqCBo_q7zi_"
      },
      "execution_count": null,
      "outputs": []
    },
    {
      "cell_type": "code",
      "source": [
        "net.collect_params().initialize(mx.init.Xavier(), ctx=mx.cpu())\n",
        "net.hybridize()\n",
        "trainer = gluon.Trainer(net.collect_params(), 'adam', {'learning_rate': .01})"
      ],
      "metadata": {
        "id": "KP_dwqWm7zgS"
      },
      "execution_count": null,
      "outputs": []
    },
    {
      "cell_type": "code",
      "source": [
        "print(net)"
      ],
      "metadata": {
        "id": "Fh909V1Y7zdw"
      },
      "execution_count": null,
      "outputs": []
    },
    {
      "cell_type": "code",
      "source": [
        "VAE(\n",
        "  (encoder): HybridSequential(\n",
        "    (0): Dense(None -> 400, Activation(relu))\n",
        "    (1): Dense(None -> 400, Activation(relu))\n",
        "    (2): Dense(None -> 400, Activation(relu))\n",
        "    (3): Dense(None -> 4, linear)\n",
        "  )\n",
        "  (decoder): HybridSequential(\n",
        "    (0): Dense(None -> 400, Activation(relu))\n",
        "    (1): Dense(None -> 400, Activation(relu))\n",
        "    (2): Dense(None -> 400, Activation(relu))\n",
        "    (3): Dense(None -> 11, Activation(sigmoid))\n",
        "  )\n",
        ")"
      ],
      "metadata": {
        "id": "Lvk4-Nyl7zbK"
      },
      "execution_count": null,
      "outputs": []
    },
    {
      "cell_type": "code",
      "source": [
        "n_epoch = 150\n",
        "print_period = n_epoch // 10\n",
        "start = time.time()\n",
        "\n",
        "training_loss = []\n",
        "validation_loss = []\n",
        "for epoch in range(n_epoch):\n",
        "    epoch_loss = 0\n",
        "    epoch_val_loss = 0\n",
        "\n",
        "    train_iter.reset()\n",
        "    test_iter.reset()\n",
        "\n",
        "    n_batch_train = 0\n",
        "    for batch in train_iter:\n",
        "        n_batch_train +=1\n",
        "        data = batch.data[0].as_in_context(mx.cpu())\n",
        "\n",
        "        with autograd.record():\n",
        "            loss = net(data)\n",
        "        loss.backward()\n",
        "        trainer.step(data.shape[0])\n",
        "        epoch_loss += nd.mean(loss).asscalar()\n",
        "\n",
        "    n_batch_val = 0\n",
        "    for batch in test_iter:\n",
        "        n_batch_val +=1\n",
        "        data = batch.data[0].as_in_context(mx.cpu())\n",
        "        loss = net(data)\n",
        "        epoch_val_loss += nd.mean(loss).asscalar()\n",
        "\n",
        "    epoch_loss /= n_batch_train\n",
        "    epoch_val_loss /= n_batch_val\n",
        "\n",
        "    training_loss.append(epoch_loss)\n",
        "    validation_loss.append(epoch_val_loss)\n",
        "\n",
        "    \"\"\"if epoch % max(print_period, 1) == 0:\n",
        "        print('Epoch {}, Training loss {:.2f}, Validation loss {:.2f}'.\\\n",
        "              format(epoch, epoch_loss, epoch_val_loss))\"\"\"\n",
        "\n",
        "end = time.time()\n",
        "print('Training completed in {} seconds.'.format(int(end-start)))"
      ],
      "metadata": {
        "id": "MW_7wqup7zYf"
      },
      "execution_count": null,
      "outputs": []
    },
    {
      "cell_type": "code",
      "source": [
        "dataset_total_df['Date'] = dataset_ex_df['Date']"
      ],
      "metadata": {
        "id": "I8u8nloL7zV0"
      },
      "execution_count": null,
      "outputs": []
    },
    {
      "cell_type": "code",
      "source": [
        "vae_added_df = mx.nd.array(dataset_total_df.iloc[:, :-1].values)"
      ],
      "metadata": {
        "id": "H8kgFcNo7zTF"
      },
      "execution_count": null,
      "outputs": []
    },
    {
      "cell_type": "code",
      "source": [
        "print('The shape of the newly created (from the autoencoder) features is {}.'.format(vae_added_df.shape))"
      ],
      "metadata": {
        "id": "UvK5pkDx7zQb"
      },
      "execution_count": null,
      "outputs": []
    },
    {
      "cell_type": "code",
      "source": [
        "# We want the PCA to create the new components to explain 80% of the variance\n",
        "pca = PCA(n_components=.8)"
      ],
      "metadata": {
        "id": "OixZBBW77zNj"
      },
      "execution_count": null,
      "outputs": []
    },
    {
      "cell_type": "code",
      "source": [
        "x_pca = StandardScaler().fit_transform(vae_added_df)"
      ],
      "metadata": {
        "id": "eQJpovYo7zKf"
      },
      "execution_count": null,
      "outputs": []
    },
    {
      "cell_type": "code",
      "source": [
        "principalComponents = pca.fit_transform(x_pca)"
      ],
      "metadata": {
        "id": "n7pMv1x-8FDm"
      },
      "execution_count": null,
      "outputs": []
    },
    {
      "cell_type": "code",
      "source": [
        "principalComponents.n_components_"
      ],
      "metadata": {
        "id": "CwWPTKX08FAt"
      },
      "execution_count": null,
      "outputs": []
    },
    {
      "cell_type": "code",
      "source": [
        "gan_num_features = dataset_total_df.shape[1]\n",
        "sequence_length = 17\n",
        "\n",
        "class RNNModel(gluon.Block):\n",
        "    def __init__(self, num_embed, num_hidden, num_layers, bidirectional=False, \\\n",
        "                 sequence_length=sequence_length, **kwargs):\n",
        "        super(RNNModel, self).__init__(**kwargs)\n",
        "        self.num_hidden = num_hidden\n",
        "        with self.name_scope():\n",
        "            self.rnn = rnn.LSTM(num_hidden, num_layers, input_size=num_embed, \\\n",
        "                                bidirectional=bidirectional, layout='TNC')\n",
        "            \n",
        "            self.decoder = nn.Dense(1, in_units=num_hidden)\n",
        "    \n",
        "    def forward(self, inputs, hidden):\n",
        "        output, hidden = self.rnn(inputs, hidden)\n",
        "        decoded = self.decoder(output.reshape((-1, self.num_hidden)))\n",
        "        return decoded, hidden\n",
        "    \n",
        "    def begin_state(self, *args, **kwargs):\n",
        "        return self.rnn.begin_state(*args, **kwargs)\n",
        "    \n",
        "lstm_model = RNNModel(num_embed=gan_num_features, num_hidden=500, num_layers=1)\n",
        "lstm_model.collect_params().initialize(mx.init.Xavier(), ctx=mx.cpu())\n",
        "trainer = gluon.Trainer(lstm_model.collect_params(), 'adam', {'learning_rate': .01})\n",
        "loss = gluon.loss.L1Loss()"
      ],
      "metadata": {
        "id": "-xcoUCmw8E-H"
      },
      "execution_count": null,
      "outputs": []
    },
    {
      "cell_type": "code",
      "source": [
        "print(lstm_model)"
      ],
      "metadata": {
        "id": "OHMypzHX8E7g"
      },
      "execution_count": null,
      "outputs": []
    },
    {
      "cell_type": "code",
      "source": [
        "RNNModel(\n",
        "  (rnn): LSTM(112 -> 500, TNC)\n",
        "  (decoder): Dense(500 -> 1, linear)\n",
        ")"
      ],
      "metadata": {
        "id": "TX9pvXVK8E47"
      },
      "execution_count": null,
      "outputs": []
    },
    {
      "cell_type": "code",
      "source": [
        "class TriangularSchedule():\n",
        "    def __init__(self, min_lr, max_lr, cycle_length, inc_fraction=0.5):     \n",
        "        self.min_lr = min_lr\n",
        "        self.max_lr = max_lr\n",
        "        self.cycle_length = cycle_length\n",
        "        self.inc_fraction = inc_fraction\n",
        "        \n",
        "    def __call__(self, iteration):\n",
        "        if iteration <= self.cycle_length*self.inc_fraction:\n",
        "            unit_cycle = iteration * 1 / (self.cycle_length * self.inc_fraction)\n",
        "        elif iteration <= self.cycle_length:\n",
        "            unit_cycle = (self.cycle_length - iteration) * 1 / (self.cycle_length * (1 - self.inc_fraction))\n",
        "        else:\n",
        "            unit_cycle = 0\n",
        "        adjusted_cycle = (unit_cycle * (self.max_lr - self.min_lr)) + self.min_lr\n",
        "        return adjusted_cycle\n",
        "\n",
        "class CyclicalSchedule():\n",
        "    def __init__(self, schedule_class, cycle_length, cycle_length_decay=1, cycle_magnitude_decay=1, **kwargs):\n",
        "        self.schedule_class = schedule_class\n",
        "        self.length = cycle_length\n",
        "        self.length_decay = cycle_length_decay\n",
        "        self.magnitude_decay = cycle_magnitude_decay\n",
        "        self.kwargs = kwargs\n",
        "    \n",
        "    def __call__(self, iteration):\n",
        "        cycle_idx = 0\n",
        "        cycle_length = self.length\n",
        "        idx = self.length\n",
        "        while idx <= iteration:\n",
        "            cycle_length = math.ceil(cycle_length * self.length_decay)\n",
        "            cycle_idx += 1\n",
        "            idx += cycle_length\n",
        "        cycle_offset = iteration - idx + cycle_length\n",
        "        \n",
        "        schedule = self.schedule_class(cycle_length=cycle_length, **self.kwargs)\n",
        "        return schedule(cycle_offset) * self.magnitude_decay**cycle_idx"
      ],
      "metadata": {
        "id": "ZQQTKZVr8E2M"
      },
      "execution_count": null,
      "outputs": []
    },
    {
      "cell_type": "code",
      "source": [
        "schedule = CyclicalSchedule(TriangularSchedule, min_lr=0.5, max_lr=2, cycle_length=500)\n",
        "iterations=1500\n",
        "\n",
        "plt.plot([i+1 for i in range(iterations)],[schedule(i) for i in range(iterations)])\n",
        "plt.title('Learning rate for each epoch')\n",
        "plt.xlabel(\"Epoch\")\n",
        "plt.ylabel(\"Learning Rate\")\n",
        "plt.show()"
      ],
      "metadata": {
        "id": "Kbqb7PK88RY2"
      },
      "execution_count": null,
      "outputs": []
    },
    {
      "cell_type": "code",
      "source": [
        "num_fc = 512\n",
        "\n",
        "# ... other parts of the GAN\n",
        "\n",
        "cnn_net = gluon.nn.Sequential()\n",
        "with net.name_scope():\n",
        "    \n",
        "    # Add the 1D Convolutional layers\n",
        "    cnn_net.add(gluon.nn.Conv1D(32, kernel_size=5, strides=2))\n",
        "    cnn_net.add(nn.LeakyReLU(0.01))\n",
        "    cnn_net.add(gluon.nn.Conv1D(64, kernel_size=5, strides=2))\n",
        "    cnn_net.add(nn.LeakyReLU(0.01))\n",
        "    cnn_net.add(nn.BatchNorm())\n",
        "    cnn_net.add(gluon.nn.Conv1D(128, kernel_size=5, strides=2))\n",
        "    cnn_net.add(nn.LeakyReLU(0.01))\n",
        "    cnn_net.add(nn.BatchNorm())\n",
        "    \n",
        "    # Add the two Fully Connected layers\n",
        "    cnn_net.add(nn.Dense(220, use_bias=False), nn.BatchNorm(), nn.LeakyReLU(0.01))\n",
        "    cnn_net.add(nn.Dense(220, use_bias=False), nn.Activation(activation='relu'))\n",
        "    cnn_net.add(nn.Dense(1))\n",
        "    \n",
        "# ... other parts of the GAN"
      ],
      "metadata": {
        "id": "QFtg32sQ8RWV"
      },
      "execution_count": null,
      "outputs": []
    },
    {
      "cell_type": "code",
      "source": [
        "print(cnn_net)"
      ],
      "metadata": {
        "id": "EeADBhjM8RT4"
      },
      "execution_count": null,
      "outputs": []
    },
    {
      "cell_type": "code",
      "source": [
        "# Initialize the optimizer\n",
        "from bayes_opt import BayesianOptimization\n",
        "from bayes_opt import UtilityFunction\n",
        "\n",
        "utility = UtilityFunction(kind=\"ucb\", kappa=2.5, xi=0.0)"
      ],
      "metadata": {
        "id": "qXwsqGIR8RRQ"
      },
      "execution_count": null,
      "outputs": []
    },
    {
      "cell_type": "code",
      "source": [
        "from utils import plot_prediction"
      ],
      "metadata": {
        "id": "rmiWj_F68RO4"
      },
      "execution_count": null,
      "outputs": []
    },
    {
      "cell_type": "code",
      "source": [
        "plot_prediction('Predicted and Real price - after first epoch.')"
      ],
      "metadata": {
        "id": "mJZUGCFf8RMm"
      },
      "execution_count": null,
      "outputs": []
    },
    {
      "cell_type": "code",
      "source": [
        "plot_prediction('Predicted and Real price - after first 50 epochs.')"
      ],
      "metadata": {
        "id": "H1ND4AFt8RKr"
      },
      "execution_count": null,
      "outputs": []
    },
    {
      "cell_type": "code",
      "source": [
        "plot_prediction('Predicted and Real price - after first 200 epochs.')"
      ],
      "metadata": {
        "id": "dTm8wof78RHm"
      },
      "execution_count": null,
      "outputs": []
    },
    {
      "cell_type": "code",
      "source": [
        "plot_prediction('Final result.')"
      ],
      "metadata": {
        "id": "1kNn17dN8RE4"
      },
      "execution_count": null,
      "outputs": []
    },
    {
      "cell_type": "code",
      "source": [
        ""
      ],
      "metadata": {
        "id": "zd6i3Rd98RCe"
      },
      "execution_count": null,
      "outputs": []
    },
    {
      "cell_type": "code",
      "source": [
        ""
      ],
      "metadata": {
        "id": "L7ERcqk78Q_h"
      },
      "execution_count": null,
      "outputs": []
    },
    {
      "cell_type": "code",
      "source": [
        ""
      ],
      "metadata": {
        "id": "Gsyhphkf8Q8f"
      },
      "execution_count": null,
      "outputs": []
    },
    {
      "cell_type": "code",
      "source": [
        ""
      ],
      "metadata": {
        "id": "e5F91-r18Ey9"
      },
      "execution_count": null,
      "outputs": []
    }
  ]
}